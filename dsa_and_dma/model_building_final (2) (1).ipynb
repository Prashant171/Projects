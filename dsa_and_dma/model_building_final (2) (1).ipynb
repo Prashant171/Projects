{
 "cells": [
  {
   "cell_type": "markdown",
   "metadata": {},
   "source": [
    "# PUMP IT UP:DATA MINING THE WATER                          TABLE"
   ]
  },
  {
   "cell_type": "markdown",
   "metadata": {},
   "source": [
    "## TEAM ID :  5C13\n",
    "\n",
    "## SEM        :  V\n",
    "\n",
    "## DIV          :  C\n",
    "\n",
    "## TOPIC ID: 5ADMACP05\n"
   ]
  },
  {
   "cell_type": "markdown",
   "metadata": {},
   "source": [
    "## Problem Statement:\n",
    "### To predict the operating condition of a water point for each record in the given dataset."
   ]
  },
  {
   "cell_type": "markdown",
   "metadata": {},
   "source": [
    "### Team leader: Pradeep Badiger\n",
    "\n",
    "\n",
    "### Team Members:\n",
    " ### Pooja Vibhutimath            161                  01FE16BCS141\n",
    " ### Pradeep Badiger               164                  01FE16BCS144\n",
    " ### Prajna Yaji                         165                   01FE16BCS145\n",
    " ### Prashant Jalisatgi             168                  01FE16BCS148"
   ]
  },
  {
   "cell_type": "code",
   "execution_count": null,
   "metadata": {
    "collapsed": true,
    "scrolled": true
   },
   "outputs": [],
   "source": [
    "## Pump it Up: Data Mining the Water Table - Data Cleaning ##"
   ]
  },
  {
   "cell_type": "markdown",
   "metadata": {},
   "source": [
    "## Data Cleaning ##\n",
    "\n",
    "### 1.Combining the labels with train data\n",
    "\n",
    "### 2.Convert status group label into numerical data\n",
    "\n",
    "### 3.Fixing null values before begining the analysis\n",
    "#### 3.1.Funder:Lets divide funder column into 9 categories, top 9 will be remained as it is and after that they will be categorised into                               other\n",
    "####                    Creating a function to categorize:\n",
    "####                     Keep high frequency values and replace low frequency values with new category \"other\"\n",
    "\n",
    "#### 3.2.Installer:Categorizing installer variable\n",
    "####                       Lets divide installer column into 5 categories, top 5 will be remained as it is and after that they will be categorised                                    into \"other\"\n",
    "\n",
    "### 4.Check the null values for training dataset\n",
    "#### 4.1.The null values are replaced by mean values\n",
    "#### 4.2.As there are so many unique values, high frequency values will not be able to dominate other variables. \n",
    "####        Hence, it is advisable to remove the \"sub_village\" column from dataset.\n",
    "#### 4.3.Public_meeting:The total values are 59400. Hence, there are missing values. Filling those values with 'Unknown'\n",
    "####                                  Number of missing values ~ 2000. Replacing them by mode value.\n",
    "#### 4.4.Scheme_management:This attribute includes high frequency and few low as well.\n",
    "####                                               Hence,the top 5 are considered and remaining values are classified as \"other\"\n",
    "#### 4.5.Scheme:Lots of factors and the top 5 or so only represent a fraction of the total values and there are different scheme types ####                      hence, this attribute is dropped.\n",
    "#### 4.6.Permit:This attribute has two values \"true\" and \"false\" and the missing values are replaced as \"unknown\"\n",
    "\n",
    "### From this we can say that data is clean.\n",
    "\n",
    "### 5.Removing duplicate attributes:\n",
    "#### 5.1       waterpoint_type, extraction_type, extraction_type_group,source,quantity,quality_group,payment,management\n",
    "#### 5.2.Removing the geographical attributes:region_code','district_code','num_private','wpt_name','lga','region','ward','status_group'\n",
    "####      'gps_height', 'region_code', 'district_code'\n",
    "#### 5.3. Turn construction_year into a categorical column containing the following values: '60s', '70s', '80s', '90s, '00s', '10s',                                   'unknown'.\n",
    "#### 5.4.Convert date_recorded attribute to day since recorderd\n",
    "\n",
    "### One hot encoding\n",
    "#### Convert categorial data to binary \n",
    "\n",
    "\n",
    "\n"
   ]
  },
  {
   "cell_type": "markdown",
   "metadata": {},
   "source": [
    "# 1 Data reading"
   ]
  },
  {
   "cell_type": "code",
   "execution_count": 124,
   "metadata": {
    "scrolled": true
   },
   "outputs": [],
   "source": [
    "import pandas as pd\n",
    "import numpy as np\n",
    "import matplotlib.pyplot as plt\n",
    "%matplotlib inline \n",
    "import seaborn as sns"
   ]
  },
  {
   "cell_type": "code",
   "execution_count": 125,
   "metadata": {
    "scrolled": true
   },
   "outputs": [
    {
     "name": "stdout",
     "output_type": "stream",
     "text": [
      "Reading data...\n",
      "Reading data...completed\n"
     ]
    }
   ],
   "source": [
    "print(\"Reading data...\")\n",
    "\n",
    "train_values = pd.read_csv(\"Train_values.csv\")\n",
    "train_labels=pd.read_csv(\"Train_labels.csv\")\n",
    "\n",
    "test=pd.read_csv('Test_values.csv')\n",
    "test_copy=test.copy()\n",
    "\n",
    "print(\"Reading data...completed\")"
   ]
  },
  {
   "cell_type": "markdown",
   "metadata": {},
   "source": [
    "### combining labels with train data"
   ]
  },
  {
   "cell_type": "code",
   "execution_count": 126,
   "metadata": {
    "scrolled": true
   },
   "outputs": [],
   "source": [
    "# Combining the labels with train data\n",
    "train=train_values.merge(train_labels,on='id',how='inner')"
   ]
  },
  {
   "cell_type": "code",
   "execution_count": 127,
   "metadata": {
    "scrolled": true
   },
   "outputs": [
    {
     "data": {
      "text/html": [
       "<div>\n",
       "<style scoped>\n",
       "    .dataframe tbody tr th:only-of-type {\n",
       "        vertical-align: middle;\n",
       "    }\n",
       "\n",
       "    .dataframe tbody tr th {\n",
       "        vertical-align: top;\n",
       "    }\n",
       "\n",
       "    .dataframe thead th {\n",
       "        text-align: right;\n",
       "    }\n",
       "</style>\n",
       "<table border=\"1\" class=\"dataframe\">\n",
       "  <thead>\n",
       "    <tr style=\"text-align: right;\">\n",
       "      <th></th>\n",
       "      <th>id</th>\n",
       "      <th>amount_tsh</th>\n",
       "      <th>date_recorded</th>\n",
       "      <th>funder</th>\n",
       "      <th>gps_height</th>\n",
       "      <th>installer</th>\n",
       "      <th>longitude</th>\n",
       "      <th>latitude</th>\n",
       "      <th>wpt_name</th>\n",
       "      <th>num_private</th>\n",
       "      <th>...</th>\n",
       "      <th>water_quality</th>\n",
       "      <th>quality_group</th>\n",
       "      <th>quantity</th>\n",
       "      <th>quantity_group</th>\n",
       "      <th>source</th>\n",
       "      <th>source_type</th>\n",
       "      <th>source_class</th>\n",
       "      <th>waterpoint_type</th>\n",
       "      <th>waterpoint_type_group</th>\n",
       "      <th>status_group</th>\n",
       "    </tr>\n",
       "  </thead>\n",
       "  <tbody>\n",
       "    <tr>\n",
       "      <th>0</th>\n",
       "      <td>69572</td>\n",
       "      <td>6000.0</td>\n",
       "      <td>2011-03-14</td>\n",
       "      <td>Roman</td>\n",
       "      <td>1390</td>\n",
       "      <td>Roman</td>\n",
       "      <td>34.938093</td>\n",
       "      <td>-9.856322</td>\n",
       "      <td>none</td>\n",
       "      <td>0</td>\n",
       "      <td>...</td>\n",
       "      <td>soft</td>\n",
       "      <td>good</td>\n",
       "      <td>enough</td>\n",
       "      <td>enough</td>\n",
       "      <td>spring</td>\n",
       "      <td>spring</td>\n",
       "      <td>groundwater</td>\n",
       "      <td>communal standpipe</td>\n",
       "      <td>communal standpipe</td>\n",
       "      <td>functional</td>\n",
       "    </tr>\n",
       "    <tr>\n",
       "      <th>1</th>\n",
       "      <td>8776</td>\n",
       "      <td>0.0</td>\n",
       "      <td>2013-03-06</td>\n",
       "      <td>Grumeti</td>\n",
       "      <td>1399</td>\n",
       "      <td>GRUMETI</td>\n",
       "      <td>34.698766</td>\n",
       "      <td>-2.147466</td>\n",
       "      <td>Zahanati</td>\n",
       "      <td>0</td>\n",
       "      <td>...</td>\n",
       "      <td>soft</td>\n",
       "      <td>good</td>\n",
       "      <td>insufficient</td>\n",
       "      <td>insufficient</td>\n",
       "      <td>rainwater harvesting</td>\n",
       "      <td>rainwater harvesting</td>\n",
       "      <td>surface</td>\n",
       "      <td>communal standpipe</td>\n",
       "      <td>communal standpipe</td>\n",
       "      <td>functional</td>\n",
       "    </tr>\n",
       "    <tr>\n",
       "      <th>2</th>\n",
       "      <td>34310</td>\n",
       "      <td>25.0</td>\n",
       "      <td>2013-02-25</td>\n",
       "      <td>Lottery Club</td>\n",
       "      <td>686</td>\n",
       "      <td>World vision</td>\n",
       "      <td>37.460664</td>\n",
       "      <td>-3.821329</td>\n",
       "      <td>Kwa Mahundi</td>\n",
       "      <td>0</td>\n",
       "      <td>...</td>\n",
       "      <td>soft</td>\n",
       "      <td>good</td>\n",
       "      <td>enough</td>\n",
       "      <td>enough</td>\n",
       "      <td>dam</td>\n",
       "      <td>dam</td>\n",
       "      <td>surface</td>\n",
       "      <td>communal standpipe multiple</td>\n",
       "      <td>communal standpipe</td>\n",
       "      <td>functional</td>\n",
       "    </tr>\n",
       "    <tr>\n",
       "      <th>3</th>\n",
       "      <td>67743</td>\n",
       "      <td>0.0</td>\n",
       "      <td>2013-01-28</td>\n",
       "      <td>Unicef</td>\n",
       "      <td>263</td>\n",
       "      <td>UNICEF</td>\n",
       "      <td>38.486161</td>\n",
       "      <td>-11.155298</td>\n",
       "      <td>Zahanati Ya Nanyumbu</td>\n",
       "      <td>0</td>\n",
       "      <td>...</td>\n",
       "      <td>soft</td>\n",
       "      <td>good</td>\n",
       "      <td>dry</td>\n",
       "      <td>dry</td>\n",
       "      <td>machine dbh</td>\n",
       "      <td>borehole</td>\n",
       "      <td>groundwater</td>\n",
       "      <td>communal standpipe multiple</td>\n",
       "      <td>communal standpipe</td>\n",
       "      <td>non functional</td>\n",
       "    </tr>\n",
       "    <tr>\n",
       "      <th>4</th>\n",
       "      <td>19728</td>\n",
       "      <td>0.0</td>\n",
       "      <td>2011-07-13</td>\n",
       "      <td>Action In A</td>\n",
       "      <td>0</td>\n",
       "      <td>Artisan</td>\n",
       "      <td>31.130847</td>\n",
       "      <td>-1.825359</td>\n",
       "      <td>Shuleni</td>\n",
       "      <td>0</td>\n",
       "      <td>...</td>\n",
       "      <td>soft</td>\n",
       "      <td>good</td>\n",
       "      <td>seasonal</td>\n",
       "      <td>seasonal</td>\n",
       "      <td>rainwater harvesting</td>\n",
       "      <td>rainwater harvesting</td>\n",
       "      <td>surface</td>\n",
       "      <td>communal standpipe</td>\n",
       "      <td>communal standpipe</td>\n",
       "      <td>functional</td>\n",
       "    </tr>\n",
       "  </tbody>\n",
       "</table>\n",
       "<p>5 rows × 41 columns</p>\n",
       "</div>"
      ],
      "text/plain": [
       "      id  amount_tsh date_recorded        funder  gps_height     installer  \\\n",
       "0  69572      6000.0    2011-03-14         Roman        1390         Roman   \n",
       "1   8776         0.0    2013-03-06       Grumeti        1399       GRUMETI   \n",
       "2  34310        25.0    2013-02-25  Lottery Club         686  World vision   \n",
       "3  67743         0.0    2013-01-28        Unicef         263        UNICEF   \n",
       "4  19728         0.0    2011-07-13   Action In A           0       Artisan   \n",
       "\n",
       "   longitude   latitude              wpt_name  num_private       ...        \\\n",
       "0  34.938093  -9.856322                  none            0       ...         \n",
       "1  34.698766  -2.147466              Zahanati            0       ...         \n",
       "2  37.460664  -3.821329           Kwa Mahundi            0       ...         \n",
       "3  38.486161 -11.155298  Zahanati Ya Nanyumbu            0       ...         \n",
       "4  31.130847  -1.825359               Shuleni            0       ...         \n",
       "\n",
       "  water_quality quality_group      quantity  quantity_group  \\\n",
       "0          soft          good        enough          enough   \n",
       "1          soft          good  insufficient    insufficient   \n",
       "2          soft          good        enough          enough   \n",
       "3          soft          good           dry             dry   \n",
       "4          soft          good      seasonal        seasonal   \n",
       "\n",
       "                 source           source_type source_class  \\\n",
       "0                spring                spring  groundwater   \n",
       "1  rainwater harvesting  rainwater harvesting      surface   \n",
       "2                   dam                   dam      surface   \n",
       "3           machine dbh              borehole  groundwater   \n",
       "4  rainwater harvesting  rainwater harvesting      surface   \n",
       "\n",
       "               waterpoint_type waterpoint_type_group    status_group  \n",
       "0           communal standpipe    communal standpipe      functional  \n",
       "1           communal standpipe    communal standpipe      functional  \n",
       "2  communal standpipe multiple    communal standpipe      functional  \n",
       "3  communal standpipe multiple    communal standpipe  non functional  \n",
       "4           communal standpipe    communal standpipe      functional  \n",
       "\n",
       "[5 rows x 41 columns]"
      ]
     },
     "execution_count": 127,
     "metadata": {},
     "output_type": "execute_result"
    }
   ],
   "source": [
    "train.head()"
   ]
  },
  {
   "cell_type": "markdown",
   "metadata": {},
   "source": [
    "### converting status group label into neumerical data"
   ]
  },
  {
   "cell_type": "code",
   "execution_count": 128,
   "metadata": {
    "scrolled": true
   },
   "outputs": [
    {
     "data": {
      "text/plain": [
       "<bound method NDFrame.head of 0        2\n",
       "1        2\n",
       "2        2\n",
       "3        0\n",
       "4        2\n",
       "5        2\n",
       "6        0\n",
       "7        0\n",
       "8        0\n",
       "9        2\n",
       "10       2\n",
       "11       2\n",
       "12       2\n",
       "13       2\n",
       "14       2\n",
       "15       2\n",
       "16       0\n",
       "17       0\n",
       "18       1\n",
       "19       2\n",
       "20       2\n",
       "21       2\n",
       "22       1\n",
       "23       2\n",
       "24       2\n",
       "25       1\n",
       "26       2\n",
       "27       2\n",
       "28       0\n",
       "29       2\n",
       "        ..\n",
       "59370    2\n",
       "59371    0\n",
       "59372    0\n",
       "59373    2\n",
       "59374    2\n",
       "59375    2\n",
       "59376    0\n",
       "59377    0\n",
       "59378    2\n",
       "59379    2\n",
       "59380    0\n",
       "59381    0\n",
       "59382    0\n",
       "59383    2\n",
       "59384    0\n",
       "59385    2\n",
       "59386    2\n",
       "59387    2\n",
       "59388    2\n",
       "59389    2\n",
       "59390    2\n",
       "59391    0\n",
       "59392    0\n",
       "59393    2\n",
       "59394    0\n",
       "59395    2\n",
       "59396    2\n",
       "59397    2\n",
       "59398    2\n",
       "59399    2\n",
       "Name: status_group_vals, Length: 59400, dtype: int64>"
      ]
     },
     "execution_count": 128,
     "metadata": {},
     "output_type": "execute_result"
    }
   ],
   "source": [
    "#convert status group label into numerical data\n",
    "\n",
    "\n",
    "val_status_group={'functional':2, 'functional needs repair':1,\n",
    "                   'non functional':0}\n",
    "train['status_group_vals']=train.status_group.replace(val_status_group)\n",
    "\n",
    "train['status_group_vals'].head"
   ]
  },
  {
   "cell_type": "markdown",
   "metadata": {},
   "source": [
    "# 2 Data cleaning"
   ]
  },
  {
   "cell_type": "code",
   "execution_count": 129,
   "metadata": {
    "scrolled": true
   },
   "outputs": [
    {
     "data": {
      "text/plain": [
       "Government Of Tanzania            9084\n",
       "Danida                            3114\n",
       "Hesawa                            2202\n",
       "Rwssp                             1374\n",
       "World Bank                        1349\n",
       "Kkkt                              1287\n",
       "World Vision                      1246\n",
       "Unicef                            1057\n",
       "Tasaf                              877\n",
       "District Council                   843\n",
       "Dhv                                829\n",
       "Private Individual                 826\n",
       "Dwsp                               811\n",
       "0                                  777\n",
       "Norad                              765\n",
       "Germany Republi                    610\n",
       "Tcrs                               602\n",
       "Ministry Of Water                  590\n",
       "Water                              583\n",
       "Dwe                                484\n",
       "Netherlands                        470\n",
       "Hifab                              450\n",
       "Adb                                448\n",
       "Lga                                442\n",
       "Amref                              425\n",
       "Fini Water                         393\n",
       "Oxfam                              359\n",
       "Wateraid                           333\n",
       "Rc Church                          321\n",
       "Isf                                316\n",
       "                                  ... \n",
       "Embasy Of Japan In Tanzania          1\n",
       "Batist Church                        1\n",
       "Kwa Makala                           1\n",
       "Giovan Disinistra Per Salve          1\n",
       "Government /sda                      1\n",
       "Nyamingu Subvillage                  1\n",
       "Mungaya                              1\n",
       "Private Person                       1\n",
       "Serikaru                             1\n",
       "Paulo Sange                          1\n",
       "Nyamasagi                            1\n",
       "Methodist Church                     1\n",
       "Mkulima                              1\n",
       "Ddca                                 1\n",
       "Makanga                              1\n",
       "Cper                                 1\n",
       "Dwe/rudep                            1\n",
       "Bukwang Church Saint                 1\n",
       "Henure Dema                          1\n",
       "Nassan                               1\n",
       "Pema                                 1\n",
       "Nyahale                              1\n",
       "Kondela                              1\n",
       "Manyota Primary School               1\n",
       "Theonas Mnyama                       1\n",
       "Dwe/ubalozi Wa Marekani              1\n",
       "Oikos E.Africa/ European Union       1\n",
       "Ju                                   1\n",
       "Huches                               1\n",
       "Abdala                               1\n",
       "Name: funder, Length: 1897, dtype: int64"
      ]
     },
     "execution_count": 129,
     "metadata": {},
     "output_type": "execute_result"
    }
   ],
   "source": [
    "# We can see few columns contain null values. Hence, we need to fix them before beginning any sort of Analysis on the data.\n",
    "\n",
    "# Starting with value \"funder\"\n",
    "train['funder'].value_counts()"
   ]
  },
  {
   "cell_type": "code",
   "execution_count": 130,
   "metadata": {
    "scrolled": true
   },
   "outputs": [],
   "source": [
    "#Lets divide funder column into 9 categories, top 9 will be remained as it is and after that they will be categorised into other\n",
    "# Creating a function to categorize:\n",
    "# Keep high frequency values and replace low frequency values with new category \"other\"\n",
    "\n",
    "def funder_cleaning(train):\n",
    "    if train['funder']=='Government Of Tanzania':\n",
    "        return 'government'\n",
    "    elif train['funder']=='Danida':\n",
    "        return 'danida'\n",
    "    elif train['funder']=='Hesawa':\n",
    "        return 'hesawa'\n",
    "    elif train['funder']=='Rwssp':\n",
    "        return 'rwssp'\n",
    "    elif train['funder']=='World Bank':\n",
    "        return 'world_bank'\n",
    "    elif train['funder']=='Kkkt':\n",
    "        return 'Kkkt'\n",
    "    elif train['funder']=='World Vision':\n",
    "        return 'world_vision'\n",
    "    elif train['funder']=='Tasaf':\n",
    "        return 'Tasaf'\n",
    "    elif train['funder']=='Unicef':\n",
    "        return 'unicef'\n",
    "    else:\n",
    "        return 'other'\n",
    "    \n",
    "train['funder']= train.apply(lambda row: funder_cleaning(row), axis=1)\n",
    "test['funder']= test.apply(lambda row: funder_cleaning(row), axis=1)"
   ]
  },
  {
   "cell_type": "code",
   "execution_count": 131,
   "metadata": {
    "scrolled": true
   },
   "outputs": [
    {
     "data": {
      "text/plain": [
       "DWE                         17402\n",
       "Government                   1825\n",
       "RWE                          1206\n",
       "Commu                        1060\n",
       "DANIDA                       1050\n",
       "KKKT                          898\n",
       "Hesawa                        840\n",
       "0                             777\n",
       "TCRS                          707\n",
       "Central government            622\n",
       "CES                           610\n",
       "Community                     553\n",
       "DANID                         552\n",
       "District Council              551\n",
       "HESAWA                        539\n",
       "LGA                           408\n",
       "World vision                  408\n",
       "WEDECO                        397\n",
       "TASAF                         396\n",
       "District council              392\n",
       "Gover                         383\n",
       "AMREF                         329\n",
       "TWESA                         316\n",
       "WU                            301\n",
       "Dmdd                          287\n",
       "ACRA                          278\n",
       "World Vision                  270\n",
       "SEMA                          249\n",
       "DW                            246\n",
       "OXFAM                         234\n",
       "                            ...  \n",
       "Nyamasagi                       1\n",
       "OMARY MONA                      1\n",
       "TLC/community                   1\n",
       "Centra govt                     1\n",
       "Luali Kaima                     1\n",
       "Jumaa                           1\n",
       "Matogoro                        1\n",
       "Mkulima                         1\n",
       "Mark                            1\n",
       "Shule ya sekondari Ipuli        1\n",
       "peter                           1\n",
       "TCRS.TLC                        1\n",
       "Anglikan                        1\n",
       "Rural water Supply              1\n",
       "Masjid Nnre                     1\n",
       "ISF and TACARE                  1\n",
       "Kagunguli Secondary             1\n",
       "CHONJA CHARLES                  1\n",
       "JACKSON MAHAMBO                 1\n",
       "NZILA                           1\n",
       "Adam mualuaka                   1\n",
       "AFRICA MUSLIM                   1\n",
       "Mamaz                           1\n",
       "Village Office                  1\n",
       "TANZANIAN GOVERNMENT            1\n",
       "GETDSC00                        1\n",
       "SUA                             1\n",
       "Mtewe                           1\n",
       "ABDALA                          1\n",
       "LWI &CENTRAL GOVERNMENT         1\n",
       "Name: installer, Length: 2145, dtype: int64"
      ]
     },
     "execution_count": 131,
     "metadata": {},
     "output_type": "execute_result"
    }
   ],
   "source": [
    "\n",
    "# Exploring \"installer\" variable\n",
    "train['installer'].value_counts()"
   ]
  },
  {
   "cell_type": "code",
   "execution_count": 132,
   "metadata": {
    "scrolled": true
   },
   "outputs": [],
   "source": [
    "# Categorizing installer variable \n",
    "#Lets divide installer column into 5 categories, top 5 will be remained as it is and after that they will be categorised into other\n",
    "\n",
    "def installer_cleaning(train):\n",
    "    if train['installer']=='DWE':\n",
    "        return 'dwe'\n",
    "    elif train['installer']=='Government':\n",
    "        return 'government'\n",
    "    elif train['installer']=='RWE':\n",
    "        return 'rwe'\n",
    "    elif train['installer']=='Commu':\n",
    "        return 'commu'\n",
    "    elif train['installer']=='DANIDA':\n",
    "        return 'danida'    \n",
    "    else:\n",
    "        return 'other'\n",
    "    \n",
    "train['installer']= train.apply(lambda row: installer_cleaning(row), axis=1)\n",
    "test['installer']= test.apply(lambda row: installer_cleaning(row), axis=1)"
   ]
  },
  {
   "cell_type": "code",
   "execution_count": null,
   "metadata": {},
   "outputs": [],
   "source": [
    "#Scheme Management\n",
    "train['scheme_management'].value_counts()"
   ]
  },
  {
   "cell_type": "code",
   "execution_count": null,
   "metadata": {},
   "outputs": [],
   "source": [
    "# Create a function to reduce the amount of dummy columns needed whilst maintaining the \n",
    "# information contained in the column.\n",
    "\n",
    "# Since ther 'scheme_management' variable includes high frequency and few low as well. We'll categorize it.\n",
    "\n",
    "def scheme_wrangler(row):\n",
    "    '''Keep top 5 values and set the rest to 'other'. '''\n",
    "    if row['scheme_management']=='VWC':\n",
    "        return 'vwc'\n",
    "    elif row['scheme_management']=='WUG':\n",
    "        return 'wug'\n",
    "    elif row['scheme_management']=='Water authority':\n",
    "        return 'wtr_auth'\n",
    "    elif row['scheme_management']=='WUA':\n",
    "        return 'wua'\n",
    "    elif row['scheme_management']=='Water Board':\n",
    "        return 'wtr_brd'\n",
    "    else:\n",
    "        return 'other'\n",
    "\n",
    "train['scheme_management'] = train.apply(lambda row: scheme_wrangler(row), axis=1)\n",
    "test['scheme_management'] = test.apply(lambda row: scheme_wrangler(row), axis=1)"
   ]
  },
  {
   "cell_type": "code",
   "execution_count": 135,
   "metadata": {
    "scrolled": true
   },
   "outputs": [
    {
     "data": {
      "text/html": [
       "<div>\n",
       "<style scoped>\n",
       "    .dataframe tbody tr th:only-of-type {\n",
       "        vertical-align: middle;\n",
       "    }\n",
       "\n",
       "    .dataframe tbody tr th {\n",
       "        vertical-align: top;\n",
       "    }\n",
       "\n",
       "    .dataframe thead th {\n",
       "        text-align: right;\n",
       "    }\n",
       "</style>\n",
       "<table border=\"1\" class=\"dataframe\">\n",
       "  <thead>\n",
       "    <tr style=\"text-align: right;\">\n",
       "      <th></th>\n",
       "      <th></th>\n",
       "      <th>status_group_vals</th>\n",
       "    </tr>\n",
       "    <tr>\n",
       "      <th>amount_tsh</th>\n",
       "      <th>status_group</th>\n",
       "      <th></th>\n",
       "    </tr>\n",
       "  </thead>\n",
       "  <tbody>\n",
       "    <tr>\n",
       "      <th rowspan=\"3\" valign=\"top\">0.00</th>\n",
       "      <th>functional</th>\n",
       "      <td>19706</td>\n",
       "    </tr>\n",
       "    <tr>\n",
       "      <th>functional needs repair</th>\n",
       "      <td>3048</td>\n",
       "    </tr>\n",
       "    <tr>\n",
       "      <th>non functional</th>\n",
       "      <td>18885</td>\n",
       "    </tr>\n",
       "    <tr>\n",
       "      <th>0.20</th>\n",
       "      <th>non functional</th>\n",
       "      <td>3</td>\n",
       "    </tr>\n",
       "    <tr>\n",
       "      <th>0.25</th>\n",
       "      <th>functional</th>\n",
       "      <td>1</td>\n",
       "    </tr>\n",
       "    <tr>\n",
       "      <th>1.00</th>\n",
       "      <th>non functional</th>\n",
       "      <td>3</td>\n",
       "    </tr>\n",
       "    <tr>\n",
       "      <th>2.00</th>\n",
       "      <th>functional</th>\n",
       "      <td>13</td>\n",
       "    </tr>\n",
       "    <tr>\n",
       "      <th rowspan=\"2\" valign=\"top\">5.00</th>\n",
       "      <th>functional</th>\n",
       "      <td>330</td>\n",
       "    </tr>\n",
       "    <tr>\n",
       "      <th>non functional</th>\n",
       "      <td>46</td>\n",
       "    </tr>\n",
       "    <tr>\n",
       "      <th rowspan=\"3\" valign=\"top\">6.00</th>\n",
       "      <th>functional</th>\n",
       "      <td>174</td>\n",
       "    </tr>\n",
       "    <tr>\n",
       "      <th>functional needs repair</th>\n",
       "      <td>3</td>\n",
       "    </tr>\n",
       "    <tr>\n",
       "      <th>non functional</th>\n",
       "      <td>13</td>\n",
       "    </tr>\n",
       "    <tr>\n",
       "      <th rowspan=\"2\" valign=\"top\">7.00</th>\n",
       "      <th>functional</th>\n",
       "      <td>54</td>\n",
       "    </tr>\n",
       "    <tr>\n",
       "      <th>non functional</th>\n",
       "      <td>15</td>\n",
       "    </tr>\n",
       "    <tr>\n",
       "      <th>9.00</th>\n",
       "      <th>non functional</th>\n",
       "      <td>1</td>\n",
       "    </tr>\n",
       "    <tr>\n",
       "      <th rowspan=\"3\" valign=\"top\">10.00</th>\n",
       "      <th>functional</th>\n",
       "      <td>623</td>\n",
       "    </tr>\n",
       "    <tr>\n",
       "      <th>functional needs repair</th>\n",
       "      <td>16</td>\n",
       "    </tr>\n",
       "    <tr>\n",
       "      <th>non functional</th>\n",
       "      <td>167</td>\n",
       "    </tr>\n",
       "    <tr>\n",
       "      <th>12.00</th>\n",
       "      <th>functional</th>\n",
       "      <td>1</td>\n",
       "    </tr>\n",
       "    <tr>\n",
       "      <th rowspan=\"2\" valign=\"top\">15.00</th>\n",
       "      <th>functional</th>\n",
       "      <td>14</td>\n",
       "    </tr>\n",
       "    <tr>\n",
       "      <th>non functional</th>\n",
       "      <td>1</td>\n",
       "    </tr>\n",
       "    <tr>\n",
       "      <th rowspan=\"3\" valign=\"top\">20.00</th>\n",
       "      <th>functional</th>\n",
       "      <td>970</td>\n",
       "    </tr>\n",
       "    <tr>\n",
       "      <th>functional needs repair</th>\n",
       "      <td>76</td>\n",
       "    </tr>\n",
       "    <tr>\n",
       "      <th>non functional</th>\n",
       "      <td>417</td>\n",
       "    </tr>\n",
       "    <tr>\n",
       "      <th rowspan=\"3\" valign=\"top\">25.00</th>\n",
       "      <th>functional</th>\n",
       "      <td>280</td>\n",
       "    </tr>\n",
       "    <tr>\n",
       "      <th>functional needs repair</th>\n",
       "      <td>18</td>\n",
       "    </tr>\n",
       "    <tr>\n",
       "      <th>non functional</th>\n",
       "      <td>58</td>\n",
       "    </tr>\n",
       "    <tr>\n",
       "      <th>26.00</th>\n",
       "      <th>functional</th>\n",
       "      <td>1</td>\n",
       "    </tr>\n",
       "    <tr>\n",
       "      <th rowspan=\"2\" valign=\"top\">30.00</th>\n",
       "      <th>functional</th>\n",
       "      <td>528</td>\n",
       "    </tr>\n",
       "    <tr>\n",
       "      <th>functional needs repair</th>\n",
       "      <td>35</td>\n",
       "    </tr>\n",
       "    <tr>\n",
       "      <th>...</th>\n",
       "      <th>...</th>\n",
       "      <td>...</td>\n",
       "    </tr>\n",
       "    <tr>\n",
       "      <th>14000.00</th>\n",
       "      <th>non functional</th>\n",
       "      <td>1</td>\n",
       "    </tr>\n",
       "    <tr>\n",
       "      <th rowspan=\"2\" valign=\"top\">15000.00</th>\n",
       "      <th>functional</th>\n",
       "      <td>15</td>\n",
       "    </tr>\n",
       "    <tr>\n",
       "      <th>non functional</th>\n",
       "      <td>1</td>\n",
       "    </tr>\n",
       "    <tr>\n",
       "      <th>16000.00</th>\n",
       "      <th>functional</th>\n",
       "      <td>2</td>\n",
       "    </tr>\n",
       "    <tr>\n",
       "      <th>16300.00</th>\n",
       "      <th>functional</th>\n",
       "      <td>2</td>\n",
       "    </tr>\n",
       "    <tr>\n",
       "      <th>18000.00</th>\n",
       "      <th>functional</th>\n",
       "      <td>4</td>\n",
       "    </tr>\n",
       "    <tr>\n",
       "      <th rowspan=\"2\" valign=\"top\">20000.00</th>\n",
       "      <th>functional</th>\n",
       "      <td>42</td>\n",
       "    </tr>\n",
       "    <tr>\n",
       "      <th>non functional</th>\n",
       "      <td>3</td>\n",
       "    </tr>\n",
       "    <tr>\n",
       "      <th rowspan=\"2\" valign=\"top\">25000.00</th>\n",
       "      <th>functional</th>\n",
       "      <td>8</td>\n",
       "    </tr>\n",
       "    <tr>\n",
       "      <th>functional needs repair</th>\n",
       "      <td>1</td>\n",
       "    </tr>\n",
       "    <tr>\n",
       "      <th>26000.00</th>\n",
       "      <th>functional</th>\n",
       "      <td>2</td>\n",
       "    </tr>\n",
       "    <tr>\n",
       "      <th rowspan=\"2\" valign=\"top\">30000.00</th>\n",
       "      <th>functional</th>\n",
       "      <td>6</td>\n",
       "    </tr>\n",
       "    <tr>\n",
       "      <th>non functional</th>\n",
       "      <td>2</td>\n",
       "    </tr>\n",
       "    <tr>\n",
       "      <th>38000.00</th>\n",
       "      <th>functional</th>\n",
       "      <td>1</td>\n",
       "    </tr>\n",
       "    <tr>\n",
       "      <th>40000.00</th>\n",
       "      <th>functional</th>\n",
       "      <td>7</td>\n",
       "    </tr>\n",
       "    <tr>\n",
       "      <th>45000.00</th>\n",
       "      <th>functional</th>\n",
       "      <td>3</td>\n",
       "    </tr>\n",
       "    <tr>\n",
       "      <th rowspan=\"2\" valign=\"top\">50000.00</th>\n",
       "      <th>functional</th>\n",
       "      <td>3</td>\n",
       "    </tr>\n",
       "    <tr>\n",
       "      <th>functional needs repair</th>\n",
       "      <td>1</td>\n",
       "    </tr>\n",
       "    <tr>\n",
       "      <th>60000.00</th>\n",
       "      <th>non functional</th>\n",
       "      <td>1</td>\n",
       "    </tr>\n",
       "    <tr>\n",
       "      <th>70000.00</th>\n",
       "      <th>functional</th>\n",
       "      <td>1</td>\n",
       "    </tr>\n",
       "    <tr>\n",
       "      <th rowspan=\"2\" valign=\"top\">100000.00</th>\n",
       "      <th>functional</th>\n",
       "      <td>2</td>\n",
       "    </tr>\n",
       "    <tr>\n",
       "      <th>functional needs repair</th>\n",
       "      <td>1</td>\n",
       "    </tr>\n",
       "    <tr>\n",
       "      <th rowspan=\"2\" valign=\"top\">117000.00</th>\n",
       "      <th>functional</th>\n",
       "      <td>6</td>\n",
       "    </tr>\n",
       "    <tr>\n",
       "      <th>non functional</th>\n",
       "      <td>1</td>\n",
       "    </tr>\n",
       "    <tr>\n",
       "      <th>120000.00</th>\n",
       "      <th>functional</th>\n",
       "      <td>1</td>\n",
       "    </tr>\n",
       "    <tr>\n",
       "      <th>138000.00</th>\n",
       "      <th>functional</th>\n",
       "      <td>1</td>\n",
       "    </tr>\n",
       "    <tr>\n",
       "      <th>170000.00</th>\n",
       "      <th>functional</th>\n",
       "      <td>1</td>\n",
       "    </tr>\n",
       "    <tr>\n",
       "      <th>200000.00</th>\n",
       "      <th>functional</th>\n",
       "      <td>1</td>\n",
       "    </tr>\n",
       "    <tr>\n",
       "      <th>250000.00</th>\n",
       "      <th>functional</th>\n",
       "      <td>1</td>\n",
       "    </tr>\n",
       "    <tr>\n",
       "      <th>350000.00</th>\n",
       "      <th>functional</th>\n",
       "      <td>1</td>\n",
       "    </tr>\n",
       "  </tbody>\n",
       "</table>\n",
       "<p>187 rows × 1 columns</p>\n",
       "</div>"
      ],
      "text/plain": [
       "                                    status_group_vals\n",
       "amount_tsh status_group                              \n",
       "0.00       functional                           19706\n",
       "           functional needs repair               3048\n",
       "           non functional                       18885\n",
       "0.20       non functional                           3\n",
       "0.25       functional                               1\n",
       "1.00       non functional                           3\n",
       "2.00       functional                              13\n",
       "5.00       functional                             330\n",
       "           non functional                          46\n",
       "6.00       functional                             174\n",
       "           functional needs repair                  3\n",
       "           non functional                          13\n",
       "7.00       functional                              54\n",
       "           non functional                          15\n",
       "9.00       non functional                           1\n",
       "10.00      functional                             623\n",
       "           functional needs repair                 16\n",
       "           non functional                         167\n",
       "12.00      functional                               1\n",
       "15.00      functional                              14\n",
       "           non functional                           1\n",
       "20.00      functional                             970\n",
       "           functional needs repair                 76\n",
       "           non functional                         417\n",
       "25.00      functional                             280\n",
       "           functional needs repair                 18\n",
       "           non functional                          58\n",
       "26.00      functional                               1\n",
       "30.00      functional                             528\n",
       "           functional needs repair                 35\n",
       "...                                               ...\n",
       "14000.00   non functional                           1\n",
       "15000.00   functional                              15\n",
       "           non functional                           1\n",
       "16000.00   functional                               2\n",
       "16300.00   functional                               2\n",
       "18000.00   functional                               4\n",
       "20000.00   functional                              42\n",
       "           non functional                           3\n",
       "25000.00   functional                               8\n",
       "           functional needs repair                  1\n",
       "26000.00   functional                               2\n",
       "30000.00   functional                               6\n",
       "           non functional                           2\n",
       "38000.00   functional                               1\n",
       "40000.00   functional                               7\n",
       "45000.00   functional                               3\n",
       "50000.00   functional                               3\n",
       "           functional needs repair                  1\n",
       "60000.00   non functional                           1\n",
       "70000.00   functional                               1\n",
       "100000.00  functional                               2\n",
       "           functional needs repair                  1\n",
       "117000.00  functional                               6\n",
       "           non functional                           1\n",
       "120000.00  functional                               1\n",
       "138000.00  functional                               1\n",
       "170000.00  functional                               1\n",
       "200000.00  functional                               1\n",
       "250000.00  functional                               1\n",
       "350000.00  functional                               1\n",
       "\n",
       "[187 rows x 1 columns]"
      ]
     },
     "execution_count": 135,
     "metadata": {},
     "output_type": "execute_result"
    }
   ],
   "source": [
    "# checking null values in amount_tsh\n",
    "# as functional and non functional are almost same for 0.00 value we cannot conclude anything with the value zero so replace it with mean\n",
    "piv_table  = pd.pivot_table(train,index=['amount_tsh','status_group'],\n",
    "                           values='status_group_vals', aggfunc='count')\n",
    "piv_table"
   ]
  },
  {
   "cell_type": "markdown",
   "metadata": {},
   "source": [
    "## Filling the missing values"
   ]
  },
  {
   "cell_type": "markdown",
   "metadata": {},
   "source": [
    "### Replacing with mean"
   ]
  },
  {
   "cell_type": "code",
   "execution_count": 136,
   "metadata": {
    "scrolled": true
   },
   "outputs": [
    {
     "data": {
      "text/plain": [
       "0    6000.0\n",
       "1       NaN\n",
       "2      25.0\n",
       "3       NaN\n",
       "4       NaN\n",
       "Name: amount_tsh, dtype: float64"
      ]
     },
     "execution_count": 136,
     "metadata": {},
     "output_type": "execute_result"
    }
   ],
   "source": [
    "# replace amount_tsh with its mean value\n",
    "train.amount_tsh.replace(0,np.nan,inplace=True)\n",
    "train.amount_tsh.head()"
   ]
  },
  {
   "cell_type": "code",
   "execution_count": 137,
   "metadata": {},
   "outputs": [
    {
     "data": {
      "text/plain": [
       "0      NaN\n",
       "1      NaN\n",
       "2      NaN\n",
       "3      NaN\n",
       "4    500.0\n",
       "Name: amount_tsh, dtype: float64"
      ]
     },
     "execution_count": 137,
     "metadata": {},
     "output_type": "execute_result"
    }
   ],
   "source": [
    "test.amount_tsh.replace(0,np.nan,inplace=True)\n",
    "test.amount_tsh.head()"
   ]
  },
  {
   "cell_type": "code",
   "execution_count": 138,
   "metadata": {
    "scrolled": true
   },
   "outputs": [
    {
     "name": "stdout",
     "output_type": "stream",
     "text": [
      "1062.351942458195\n"
     ]
    }
   ],
   "source": [
    "Mean_value=train.amount_tsh.mean()\n",
    "print(Mean_value)"
   ]
  },
  {
   "cell_type": "code",
   "execution_count": 139,
   "metadata": {},
   "outputs": [
    {
     "name": "stdout",
     "output_type": "stream",
     "text": [
      "1079.725382882883\n"
     ]
    }
   ],
   "source": [
    "Mean_value_test=test.amount_tsh.mean()\n",
    "print(Mean_value_test)"
   ]
  },
  {
   "cell_type": "code",
   "execution_count": 140,
   "metadata": {
    "scrolled": true
   },
   "outputs": [
    {
     "data": {
      "text/plain": [
       "0    6000.000000\n",
       "1    1062.351942\n",
       "2      25.000000\n",
       "3    1062.351942\n",
       "4    1062.351942\n",
       "Name: amount_tsh, dtype: float64"
      ]
     },
     "execution_count": 140,
     "metadata": {},
     "output_type": "execute_result"
    }
   ],
   "source": [
    "train.amount_tsh.replace(np.nan,Mean_value,inplace=True)\n",
    "train.amount_tsh.head()"
   ]
  },
  {
   "cell_type": "code",
   "execution_count": 141,
   "metadata": {},
   "outputs": [
    {
     "data": {
      "text/plain": [
       "0    1079.725383\n",
       "1    1079.725383\n",
       "2    1079.725383\n",
       "3    1079.725383\n",
       "4     500.000000\n",
       "Name: amount_tsh, dtype: float64"
      ]
     },
     "execution_count": 141,
     "metadata": {},
     "output_type": "execute_result"
    }
   ],
   "source": [
    "test.amount_tsh.replace(np.nan,Mean_value_test,inplace=True)\n",
    "test.amount_tsh.head()"
   ]
  },
  {
   "cell_type": "code",
   "execution_count": 142,
   "metadata": {
    "scrolled": true
   },
   "outputs": [
    {
     "data": {
      "text/plain": [
       "0    109.0\n",
       "1    280.0\n",
       "2    250.0\n",
       "3     58.0\n",
       "4      NaN\n",
       "Name: population, dtype: float64"
      ]
     },
     "execution_count": 142,
     "metadata": {},
     "output_type": "execute_result"
    }
   ],
   "source": [
    "train.population.replace(0,np.nan,inplace=True)\n",
    "train.population.head()"
   ]
  },
  {
   "cell_type": "code",
   "execution_count": 143,
   "metadata": {},
   "outputs": [
    {
     "data": {
      "text/plain": [
       "0    321.0\n",
       "1    300.0\n",
       "2    500.0\n",
       "3    250.0\n",
       "4     60.0\n",
       "Name: population, dtype: float64"
      ]
     },
     "execution_count": 143,
     "metadata": {},
     "output_type": "execute_result"
    }
   ],
   "source": [
    "test.population.replace(0,np.nan,inplace=True)\n",
    "test.population.head()"
   ]
  },
  {
   "cell_type": "code",
   "execution_count": 144,
   "metadata": {
    "scrolled": true
   },
   "outputs": [
    {
     "name": "stdout",
     "output_type": "stream",
     "text": [
      "281.08716694284436\n"
     ]
    }
   ],
   "source": [
    "Mean_value_p=train.population.mean()\n",
    "print(Mean_value_p)"
   ]
  },
  {
   "cell_type": "code",
   "execution_count": 145,
   "metadata": {},
   "outputs": [
    {
     "name": "stdout",
     "output_type": "stream",
     "text": [
      "290.9541342981803\n"
     ]
    }
   ],
   "source": [
    "Mean_value_p_test=test.population.mean()\n",
    "print(Mean_value_p_test)"
   ]
  },
  {
   "cell_type": "code",
   "execution_count": 146,
   "metadata": {
    "scrolled": true
   },
   "outputs": [],
   "source": [
    "train.population.replace(np.nan,Mean_value_p,inplace=True)"
   ]
  },
  {
   "cell_type": "code",
   "execution_count": 147,
   "metadata": {},
   "outputs": [],
   "source": [
    "test.population.replace(np.nan,Mean_value_p_test,inplace=True)"
   ]
  },
  {
   "cell_type": "code",
   "execution_count": 148,
   "metadata": {},
   "outputs": [
    {
     "data": {
      "text/plain": [
       "0    1390.0\n",
       "1    1399.0\n",
       "2     686.0\n",
       "3     263.0\n",
       "4       NaN\n",
       "Name: gps_height, dtype: float64"
      ]
     },
     "execution_count": 148,
     "metadata": {},
     "output_type": "execute_result"
    }
   ],
   "source": [
    "train.gps_height.replace(0,np.nan,inplace=True)\n",
    "train.gps_height.head()"
   ]
  },
  {
   "cell_type": "code",
   "execution_count": 149,
   "metadata": {},
   "outputs": [
    {
     "data": {
      "text/plain": [
       "0    1996.0\n",
       "1    1569.0\n",
       "2    1567.0\n",
       "3     267.0\n",
       "4    1260.0\n",
       "Name: gps_height, dtype: float64"
      ]
     },
     "execution_count": 149,
     "metadata": {},
     "output_type": "execute_result"
    }
   ],
   "source": [
    "test.gps_height.replace(0,np.nan,inplace=True)\n",
    "test.gps_height.head()"
   ]
  },
  {
   "cell_type": "code",
   "execution_count": 150,
   "metadata": {},
   "outputs": [
    {
     "name": "stdout",
     "output_type": "stream",
     "text": [
      "1018.8608387659771\n"
     ]
    }
   ],
   "source": [
    "Mean_value_g=train.gps_height.mean()\n",
    "print(Mean_value_g)"
   ]
  },
  {
   "cell_type": "code",
   "execution_count": 151,
   "metadata": {},
   "outputs": [
    {
     "name": "stdout",
     "output_type": "stream",
     "text": [
      "1009.3310509388941\n"
     ]
    }
   ],
   "source": [
    "Mean_value_g_test=test.gps_height.mean()\n",
    "print(Mean_value_g_test)"
   ]
  },
  {
   "cell_type": "code",
   "execution_count": 152,
   "metadata": {},
   "outputs": [],
   "source": [
    "train.gps_height.replace(np.nan,Mean_value_g,inplace=True)"
   ]
  },
  {
   "cell_type": "code",
   "execution_count": 153,
   "metadata": {},
   "outputs": [],
   "source": [
    "test.gps_height.replace(np.nan,Mean_value_g_test,inplace=True)"
   ]
  },
  {
   "cell_type": "code",
   "execution_count": 154,
   "metadata": {
    "scrolled": true
   },
   "outputs": [
    {
     "data": {
      "text/plain": [
       "Madukani                508\n",
       "Shuleni                 506\n",
       "Majengo                 502\n",
       "Kati                    373\n",
       "Mtakuja                 262\n",
       "Sokoni                  232\n",
       "M                       187\n",
       "Muungano                172\n",
       "Mbuyuni                 164\n",
       "Mlimani                 152\n",
       "Songambele              147\n",
       "Miembeni                134\n",
       "Msikitini               134\n",
       "1                       132\n",
       "Kibaoni                 114\n",
       "Kanisani                111\n",
       "Mapinduzi               109\n",
       "I                       109\n",
       "Mjini                   108\n",
       "Mjimwema                108\n",
       "Mkwajuni                104\n",
       "Mwenge                  102\n",
       "Azimio                   98\n",
       "Mabatini                 98\n",
       "Mbugani                  95\n",
       "Mission                  95\n",
       "Bwawani                  91\n",
       "Bondeni                  90\n",
       "Chang'Ombe               88\n",
       "Zahanati                 86\n",
       "                       ... \n",
       "Mkaya                     1\n",
       "Kasororo                  1\n",
       "Mwang'Alanga              1\n",
       "Namajani B                1\n",
       "Tsaayo A                  1\n",
       "Nyanyembe                 1\n",
       "Tenkini                   1\n",
       "Manjaule                  1\n",
       "Mumba Kati                1\n",
       "Ntundumano                1\n",
       "Kilamo                    1\n",
       "Nyarutambwe A             1\n",
       "Wasagaro                  1\n",
       "Bandali                   1\n",
       "Ngwanghalanga A           1\n",
       "Malagarasi                1\n",
       "Dare Es Salaam Ndogo      1\n",
       "Bwoga                     1\n",
       "Kichemchem 2              1\n",
       "Mwalinha                  1\n",
       "Mwedongo                  1\n",
       "Nyarugemu                 1\n",
       "Tumbili                   1\n",
       "Luhila Kati               1\n",
       "Mvumi Kati                1\n",
       "Luchelewa                 1\n",
       "Wambilo                   1\n",
       "Usandawi                  1\n",
       "Iyuhi                     1\n",
       "Mdemi                     1\n",
       "Name: subvillage, Length: 19287, dtype: int64"
      ]
     },
     "execution_count": 154,
     "metadata": {},
     "output_type": "execute_result"
    }
   ],
   "source": [
    "# as the subvillage attribute has many unique values so we cannot conclude anything from this\n",
    "train['subvillage'].value_counts()\n"
   ]
  },
  {
   "cell_type": "code",
   "execution_count": 155,
   "metadata": {},
   "outputs": [],
   "source": [
    "#better to drop this column\n",
    "train=train.drop(['subvillage'],axis=1)\n",
    "test=test.drop(['subvillage'],axis=1)"
   ]
  },
  {
   "cell_type": "markdown",
   "metadata": {},
   "source": [
    "### Filling missing values with unknown"
   ]
  },
  {
   "cell_type": "code",
   "execution_count": 156,
   "metadata": {
    "scrolled": true
   },
   "outputs": [
    {
     "data": {
      "text/plain": [
       "True     51011\n",
       "False     5055\n",
       "Name: public_meeting, dtype: int64"
      ]
     },
     "execution_count": 156,
     "metadata": {},
     "output_type": "execute_result"
    }
   ],
   "source": [
    "train['public_meeting'].value_counts()"
   ]
  },
  {
   "cell_type": "code",
   "execution_count": 157,
   "metadata": {
    "scrolled": true
   },
   "outputs": [],
   "source": [
    "# fill missing values with unknown\n",
    "\n",
    "train.public_meeting = train.public_meeting.fillna('Unknown')\n",
    "test.public_meeting = test.public_meeting.fillna('Unknown')"
   ]
  },
  {
   "cell_type": "code",
   "execution_count": null,
   "metadata": {},
   "outputs": [],
   "source": [
    "#permit\n",
    "train['permit'].value_counts()"
   ]
  },
  {
   "cell_type": "code",
   "execution_count": null,
   "metadata": {},
   "outputs": [],
   "source": [
    "# We only have two values here: true and false. This one can stay but we'll have to replace \n",
    "# the unknown data with a string value.\n",
    "# Replacing by mode.\n",
    "train.permit = train.permit.fillna('Unknown')\n",
    "test.permit = test.permit.fillna('Unknown')"
   ]
  },
  {
   "cell_type": "code",
   "execution_count": 160,
   "metadata": {
    "scrolled": true
   },
   "outputs": [
    {
     "data": {
      "text/plain": [
       "K                                        682\n",
       "None                                     644\n",
       "Borehole                                 546\n",
       "Chalinze wate                            405\n",
       "M                                        400\n",
       "DANIDA                                   379\n",
       "Government                               320\n",
       "Ngana water supplied scheme              270\n",
       "wanging'ombe water supply s              261\n",
       "wanging'ombe supply scheme               234\n",
       "Bagamoyo wate                            229\n",
       "I                                        229\n",
       "Uroki-Bomang'ombe water sup              209\n",
       "N                                        204\n",
       "Kirua kahe gravity water supply trust    193\n",
       "Machumba estate pipe line                185\n",
       "Makwale water supplied sche              166\n",
       "Kijiji                                   161\n",
       "S                                        154\n",
       "Losaa-Kia water supply                   152\n",
       "Handeni Trunk Main(H                     152\n",
       "mtwango water supply scheme              152\n",
       "Mkongoro Two                             147\n",
       "Roman                                    139\n",
       "Mkongoro One                             128\n",
       "Maambreni gravity water supply           125\n",
       "Lyamungo umbwe water supply              120\n",
       "Kirua kahe pumping water trust           113\n",
       "Ki                                       107\n",
       "Nabaiye pipe line                        107\n",
       "                                        ... \n",
       "Kapu chini wster supply                    1\n",
       "NYA /MAK/ BUK  piped scheme                1\n",
       "Manjau                                     1\n",
       "KKKT                                       1\n",
       "Nyabugugo spring source                    1\n",
       "BL Ndarakwai                               1\n",
       "Gayu                                       1\n",
       "NYA /MAK /BUK piped scheme                 1\n",
       "Kisogwe                                    1\n",
       "Pareni Water Supply                        1\n",
       "Lerang'wa waterbsupply                     1\n",
       "Kipatimu water supply                      1\n",
       "Kabaheshi pring source                     1\n",
       "Mtanga  water supply                       1\n",
       "Keisangura piped Water  Suplly             1\n",
       "BFFS water supplying                       1\n",
       "Sero water scheme                          1\n",
       "Chanama                                    1\n",
       "REGWA                                      1\n",
       "TM Lawate  water supply                    1\n",
       "Mradi wa maji wa izia                      1\n",
       "BL Moniko Shule                            1\n",
       "BL Esilalei                                1\n",
       "Kwawameku water suply                      1\n",
       "fini water                                 1\n",
       "RC Missionary                              1\n",
       "Mand                                       1\n",
       "Kakonko/Mbizi gravity water supply         1\n",
       "River                                      1\n",
       "Lichipi                                    1\n",
       "Name: scheme_name, Length: 2696, dtype: int64"
      ]
     },
     "execution_count": 160,
     "metadata": {},
     "output_type": "execute_result"
    }
   ],
   "source": [
    "#Scheme name\n",
    "train['scheme_name'].value_counts()"
   ]
  },
  {
   "cell_type": "code",
   "execution_count": 161,
   "metadata": {
    "scrolled": true
   },
   "outputs": [
    {
     "data": {
      "text/plain": [
       "2697"
      ]
     },
     "execution_count": 161,
     "metadata": {},
     "output_type": "execute_result"
    }
   ],
   "source": [
    "len(train.scheme_name.unique())"
   ]
  },
  {
   "cell_type": "code",
   "execution_count": 162,
   "metadata": {
    "scrolled": true
   },
   "outputs": [],
   "source": [
    "# There are so many unique values. so better to drop this coloumn\n",
    "\n",
    "train = train.drop('scheme_name', axis=1)\n",
    "test = test.drop('scheme_name', axis=1)"
   ]
  },
  {
   "cell_type": "code",
   "execution_count": 165,
   "metadata": {
    "scrolled": true
   },
   "outputs": [
    {
     "data": {
      "text/plain": [
       "id                       0\n",
       "amount_tsh               0\n",
       "date_recorded            0\n",
       "funder                   0\n",
       "gps_height               0\n",
       "installer                0\n",
       "longitude                0\n",
       "latitude                 0\n",
       "wpt_name                 0\n",
       "num_private              0\n",
       "basin                    0\n",
       "region                   0\n",
       "region_code              0\n",
       "district_code            0\n",
       "lga                      0\n",
       "ward                     0\n",
       "population               0\n",
       "public_meeting           0\n",
       "recorded_by              0\n",
       "scheme_management        0\n",
       "permit                   0\n",
       "construction_year        0\n",
       "extraction_type          0\n",
       "extraction_type_group    0\n",
       "extraction_type_class    0\n",
       "management               0\n",
       "management_group         0\n",
       "payment                  0\n",
       "payment_type             0\n",
       "water_quality            0\n",
       "quality_group            0\n",
       "quantity                 0\n",
       "quantity_group           0\n",
       "source                   0\n",
       "source_type              0\n",
       "source_class             0\n",
       "waterpoint_type          0\n",
       "waterpoint_type_group    0\n",
       "status_group             0\n",
       "status_group_vals        0\n",
       "dtype: int64"
      ]
     },
     "execution_count": 165,
     "metadata": {},
     "output_type": "execute_result"
    }
   ],
   "source": [
    "\n",
    "# Checking Null Values on train data\n",
    "train.apply(lambda x: sum(x.isnull()), axis=0)"
   ]
  },
  {
   "cell_type": "code",
   "execution_count": 166,
   "metadata": {
    "scrolled": true
   },
   "outputs": [],
   "source": [
    "#From the above data, we can say the data is clean for both the training and testing"
   ]
  },
  {
   "cell_type": "code",
   "execution_count": 167,
   "metadata": {
    "scrolled": true
   },
   "outputs": [
    {
     "data": {
      "text/plain": [
       "GeoData Consultants Ltd    59400\n",
       "Name: recorded_by, dtype: int64"
      ]
     },
     "execution_count": 167,
     "metadata": {},
     "output_type": "execute_result"
    }
   ],
   "source": [
    "train['recorded_by'].value_counts()\n",
    "#we can drop this column because all the values in this column are same. There is no point to go forward with this column."
   ]
  },
  {
   "cell_type": "code",
   "execution_count": 168,
   "metadata": {
    "scrolled": true
   },
   "outputs": [],
   "source": [
    "train=train.drop(['recorded_by'],axis=1)\n",
    "test=test.drop(['recorded_by'],axis=1)"
   ]
  },
  {
   "cell_type": "code",
   "execution_count": 169,
   "metadata": {
    "scrolled": true
   },
   "outputs": [
    {
     "data": {
      "text/plain": [
       "id                       59400\n",
       "amount_tsh                  98\n",
       "date_recorded              356\n",
       "funder                      10\n",
       "gps_height                2428\n",
       "installer                    6\n",
       "longitude                57516\n",
       "latitude                 57517\n",
       "wpt_name                 37400\n",
       "num_private                 65\n",
       "basin                        9\n",
       "region                      21\n",
       "region_code                 27\n",
       "district_code               20\n",
       "lga                        125\n",
       "ward                      2092\n",
       "population                1049\n",
       "public_meeting               3\n",
       "scheme_management            6\n",
       "permit                       3\n",
       "construction_year           55\n",
       "extraction_type             18\n",
       "extraction_type_group       13\n",
       "extraction_type_class        7\n",
       "management                  12\n",
       "management_group             5\n",
       "payment                      7\n",
       "payment_type                 7\n",
       "water_quality                8\n",
       "quality_group                6\n",
       "quantity                     5\n",
       "quantity_group               5\n",
       "source                      10\n",
       "source_type                  7\n",
       "source_class                 3\n",
       "waterpoint_type              7\n",
       "waterpoint_type_group        6\n",
       "status_group                 3\n",
       "status_group_vals            3\n",
       "dtype: int64"
      ]
     },
     "execution_count": 169,
     "metadata": {},
     "output_type": "execute_result"
    }
   ],
   "source": [
    "train.apply(lambda x: len(x.unique()))"
   ]
  },
  {
   "cell_type": "markdown",
   "metadata": {},
   "source": [
    "### Removing the duplicate attributes"
   ]
  },
  {
   "cell_type": "code",
   "execution_count": 170,
   "metadata": {
    "scrolled": true
   },
   "outputs": [
    {
     "data": {
      "text/plain": [
       "communal standpipe             28522\n",
       "hand pump                      17488\n",
       "other                           6380\n",
       "communal standpipe multiple     6103\n",
       "improved spring                  784\n",
       "cattle trough                    116\n",
       "dam                                7\n",
       "Name: waterpoint_type, dtype: int64"
      ]
     },
     "execution_count": 170,
     "metadata": {},
     "output_type": "execute_result"
    }
   ],
   "source": [
    "train['waterpoint_type'].value_counts()"
   ]
  },
  {
   "cell_type": "code",
   "execution_count": 171,
   "metadata": {
    "scrolled": true
   },
   "outputs": [
    {
     "data": {
      "text/plain": [
       "communal standpipe    34625\n",
       "hand pump             17488\n",
       "other                  6380\n",
       "improved spring         784\n",
       "cattle trough           116\n",
       "dam                       7\n",
       "Name: waterpoint_type_group, dtype: int64"
      ]
     },
     "execution_count": 171,
     "metadata": {},
     "output_type": "execute_result"
    }
   ],
   "source": [
    "train['waterpoint_type_group'].value_counts()"
   ]
  },
  {
   "cell_type": "code",
   "execution_count": 172,
   "metadata": {
    "scrolled": true
   },
   "outputs": [],
   "source": [
    "# waterpoint_type and waterpoint_type_group both are almost similar, communal standpipe and comunal standpipe multiple are merged \n",
    "# together in waterpoint_type_group\n",
    "# we can drop one of them\n",
    "\n",
    "train=train.drop(['waterpoint_type'],axis=1)\n",
    "test=test.drop(['waterpoint_type'],axis=1)"
   ]
  },
  {
   "cell_type": "code",
   "execution_count": 173,
   "metadata": {
    "scrolled": true
   },
   "outputs": [
    {
     "data": {
      "text/plain": [
       "spring                  17021\n",
       "shallow well            16824\n",
       "machine dbh             11075\n",
       "river                    9612\n",
       "rainwater harvesting     2295\n",
       "hand dtw                  874\n",
       "lake                      765\n",
       "dam                       656\n",
       "other                     212\n",
       "unknown                    66\n",
       "Name: source, dtype: int64"
      ]
     },
     "execution_count": 173,
     "metadata": {},
     "output_type": "execute_result"
    }
   ],
   "source": [
    "train['source'].value_counts()"
   ]
  },
  {
   "cell_type": "code",
   "execution_count": 174,
   "metadata": {
    "scrolled": true
   },
   "outputs": [
    {
     "data": {
      "text/plain": [
       "spring                  17021\n",
       "shallow well            16824\n",
       "borehole                11949\n",
       "river/lake              10377\n",
       "rainwater harvesting     2295\n",
       "dam                       656\n",
       "other                     278\n",
       "Name: source_type, dtype: int64"
      ]
     },
     "execution_count": 174,
     "metadata": {},
     "output_type": "execute_result"
    }
   ],
   "source": [
    "train['source_type'].value_counts()"
   ]
  },
  {
   "cell_type": "code",
   "execution_count": 175,
   "metadata": {
    "scrolled": true
   },
   "outputs": [
    {
     "data": {
      "text/plain": [
       "groundwater    45794\n",
       "surface        13328\n",
       "unknown          278\n",
       "Name: source_class, dtype: int64"
      ]
     },
     "execution_count": 175,
     "metadata": {},
     "output_type": "execute_result"
    }
   ],
   "source": [
    "train['source_class'].value_counts()"
   ]
  },
  {
   "cell_type": "code",
   "execution_count": 176,
   "metadata": {
    "scrolled": true
   },
   "outputs": [],
   "source": [
    "#from the above script, we can say the source and source_type are same because in source_type some values are merged together. \n",
    "# we can drop one of the column.\n",
    "\n",
    "train=train.drop(['source'],axis=1)\n",
    "test=test.drop(['source'],axis=1)"
   ]
  },
  {
   "cell_type": "code",
   "execution_count": 177,
   "metadata": {
    "scrolled": true
   },
   "outputs": [
    {
     "data": {
      "text/plain": [
       "enough          33186\n",
       "insufficient    15129\n",
       "dry              6246\n",
       "seasonal         4050\n",
       "unknown           789\n",
       "Name: quantity, dtype: int64"
      ]
     },
     "execution_count": 177,
     "metadata": {},
     "output_type": "execute_result"
    }
   ],
   "source": [
    "train['quantity'].value_counts()"
   ]
  },
  {
   "cell_type": "code",
   "execution_count": 178,
   "metadata": {
    "scrolled": true
   },
   "outputs": [
    {
     "data": {
      "text/plain": [
       "enough          33186\n",
       "insufficient    15129\n",
       "dry              6246\n",
       "seasonal         4050\n",
       "unknown           789\n",
       "Name: quantity_group, dtype: int64"
      ]
     },
     "execution_count": 178,
     "metadata": {},
     "output_type": "execute_result"
    }
   ],
   "source": [
    "train['quantity_group'].value_counts()"
   ]
  },
  {
   "cell_type": "code",
   "execution_count": 179,
   "metadata": {
    "scrolled": true
   },
   "outputs": [],
   "source": [
    "#from the above script, we can say the quantity and quantity_group both are same.\n",
    "# we can drop one of the column.\n",
    "\n",
    "train=train.drop(['quantity'],axis=1)\n",
    "test=test.drop(['quantity'],axis=1)"
   ]
  },
  {
   "cell_type": "code",
   "execution_count": 180,
   "metadata": {
    "scrolled": true
   },
   "outputs": [
    {
     "data": {
      "text/plain": [
       "soft                  50818\n",
       "salty                  4856\n",
       "unknown                1876\n",
       "milky                   804\n",
       "coloured                490\n",
       "salty abandoned         339\n",
       "fluoride                200\n",
       "fluoride abandoned       17\n",
       "Name: water_quality, dtype: int64"
      ]
     },
     "execution_count": 180,
     "metadata": {},
     "output_type": "execute_result"
    }
   ],
   "source": [
    "train['water_quality'].value_counts()"
   ]
  },
  {
   "cell_type": "code",
   "execution_count": 181,
   "metadata": {
    "scrolled": true
   },
   "outputs": [
    {
     "data": {
      "text/plain": [
       "good        50818\n",
       "salty        5195\n",
       "unknown      1876\n",
       "milky         804\n",
       "colored       490\n",
       "fluoride      217\n",
       "Name: quality_group, dtype: int64"
      ]
     },
     "execution_count": 181,
     "metadata": {},
     "output_type": "execute_result"
    }
   ],
   "source": [
    "train['quality_group'].value_counts()"
   ]
  },
  {
   "cell_type": "code",
   "execution_count": 182,
   "metadata": {
    "scrolled": true
   },
   "outputs": [],
   "source": [
    "#water_quality and quality_group are correlated . lets drop one of the column\n",
    "train=train.drop(['quality_group'],axis=1)\n",
    "test=test.drop(['quality_group'],axis=1)"
   ]
  },
  {
   "cell_type": "code",
   "execution_count": 183,
   "metadata": {
    "scrolled": true
   },
   "outputs": [
    {
     "data": {
      "text/plain": [
       "never pay                25348\n",
       "pay per bucket            8985\n",
       "pay monthly               8300\n",
       "unknown                   8157\n",
       "pay when scheme fails     3914\n",
       "pay annually              3642\n",
       "other                     1054\n",
       "Name: payment, dtype: int64"
      ]
     },
     "execution_count": 183,
     "metadata": {},
     "output_type": "execute_result"
    }
   ],
   "source": [
    "train['payment'].value_counts()"
   ]
  },
  {
   "cell_type": "code",
   "execution_count": 184,
   "metadata": {
    "scrolled": true
   },
   "outputs": [
    {
     "data": {
      "text/plain": [
       "never pay     25348\n",
       "per bucket     8985\n",
       "monthly        8300\n",
       "unknown        8157\n",
       "on failure     3914\n",
       "annually       3642\n",
       "other          1054\n",
       "Name: payment_type, dtype: int64"
      ]
     },
     "execution_count": 184,
     "metadata": {},
     "output_type": "execute_result"
    }
   ],
   "source": [
    "train['payment_type'].value_counts()"
   ]
  },
  {
   "cell_type": "code",
   "execution_count": 185,
   "metadata": {
    "scrolled": true
   },
   "outputs": [],
   "source": [
    "#from the above script, we can say the payment and payment_type both are same.\n",
    "# we can drop one of the column.\n",
    "\n",
    "train=train.drop(['payment'],axis=1)\n",
    "test=test.drop(['payment'],axis=1)"
   ]
  },
  {
   "cell_type": "code",
   "execution_count": 186,
   "metadata": {
    "scrolled": true
   },
   "outputs": [
    {
     "data": {
      "text/plain": [
       "vwc                 40507\n",
       "wug                  6515\n",
       "water board          2933\n",
       "wua                  2535\n",
       "private operator     1971\n",
       "parastatal           1768\n",
       "water authority       904\n",
       "other                 844\n",
       "company               685\n",
       "unknown               561\n",
       "other - school         99\n",
       "trust                  78\n",
       "Name: management, dtype: int64"
      ]
     },
     "execution_count": 186,
     "metadata": {},
     "output_type": "execute_result"
    }
   ],
   "source": [
    "train['management'].value_counts()"
   ]
  },
  {
   "cell_type": "code",
   "execution_count": 187,
   "metadata": {
    "scrolled": true
   },
   "outputs": [
    {
     "data": {
      "text/plain": [
       "user-group    52490\n",
       "commercial     3638\n",
       "parastatal     1768\n",
       "other           943\n",
       "unknown         561\n",
       "Name: management_group, dtype: int64"
      ]
     },
     "execution_count": 187,
     "metadata": {},
     "output_type": "execute_result"
    }
   ],
   "source": [
    "train['management_group'].value_counts()"
   ]
  },
  {
   "cell_type": "code",
   "execution_count": 188,
   "metadata": {
    "scrolled": true
   },
   "outputs": [],
   "source": [
    "#from the above script, we can say the management and management_group both are same, some values are merged together in management-group.\n",
    "# we can drop one of the column.\n",
    "\n",
    "train=train.drop(['management'],axis=1)\n",
    "test=test.drop(['management'],axis=1)"
   ]
  },
  {
   "cell_type": "code",
   "execution_count": 189,
   "metadata": {
    "scrolled": true
   },
   "outputs": [
    {
     "data": {
      "text/plain": [
       "gravity                      26780\n",
       "nira/tanira                   8154\n",
       "other                         6430\n",
       "submersible                   4764\n",
       "swn 80                        3670\n",
       "mono                          2865\n",
       "india mark ii                 2400\n",
       "afridev                       1770\n",
       "ksb                           1415\n",
       "other - rope pump              451\n",
       "other - swn 81                 229\n",
       "windmill                       117\n",
       "india mark iii                  98\n",
       "cemo                            90\n",
       "other - play pump               85\n",
       "walimi                          48\n",
       "climax                          32\n",
       "other - mkulima/shinyanga        2\n",
       "Name: extraction_type, dtype: int64"
      ]
     },
     "execution_count": 189,
     "metadata": {},
     "output_type": "execute_result"
    }
   ],
   "source": [
    "train['extraction_type'].value_counts()"
   ]
  },
  {
   "cell_type": "code",
   "execution_count": 190,
   "metadata": {
    "scrolled": true
   },
   "outputs": [
    {
     "data": {
      "text/plain": [
       "gravity            26780\n",
       "nira/tanira         8154\n",
       "other               6430\n",
       "submersible         6179\n",
       "swn 80              3670\n",
       "mono                2865\n",
       "india mark ii       2400\n",
       "afridev             1770\n",
       "rope pump            451\n",
       "other handpump       364\n",
       "other motorpump      122\n",
       "wind-powered         117\n",
       "india mark iii        98\n",
       "Name: extraction_type_group, dtype: int64"
      ]
     },
     "execution_count": 190,
     "metadata": {},
     "output_type": "execute_result"
    }
   ],
   "source": [
    "train['extraction_type_group'].value_counts()"
   ]
  },
  {
   "cell_type": "code",
   "execution_count": 191,
   "metadata": {
    "scrolled": true
   },
   "outputs": [
    {
     "data": {
      "text/plain": [
       "gravity         26780\n",
       "handpump        16456\n",
       "other            6430\n",
       "submersible      6179\n",
       "motorpump        2987\n",
       "rope pump         451\n",
       "wind-powered      117\n",
       "Name: extraction_type_class, dtype: int64"
      ]
     },
     "execution_count": 191,
     "metadata": {},
     "output_type": "execute_result"
    }
   ],
   "source": [
    "train['extraction_type_class'].value_counts()"
   ]
  },
  {
   "cell_type": "code",
   "execution_count": 192,
   "metadata": {
    "scrolled": true
   },
   "outputs": [],
   "source": [
    "#from the above script, we can say the exrtaction_type, extraction_type_group and extraction_type_class are same,\n",
    "#some values are merged together.\n",
    "\n",
    "train=train.drop(['extraction_type'],axis=1)\n",
    "test=test.drop(['extraction_type'],axis=1)\n",
    "\n",
    "train=train.drop(['extraction_type_group'],axis=1)\n",
    "test=test.drop(['extraction_type_group'],axis=1)"
   ]
  },
  {
   "cell_type": "code",
   "execution_count": 193,
   "metadata": {
    "scrolled": true
   },
   "outputs": [],
   "source": [
    "#num_private,id,water point name are not give any predictive value to the model..so drop these columns\n",
    "# region and region_code both are same so drop region\n",
    "# ward has so many unique values. so better to drop this column\n",
    "\n",
    "\n",
    "train = train.drop(['num_private', 'id','wpt_name','region','ward','status_group'], axis=1)\n",
    "\n",
    "test = test.drop(['num_private', 'id','wpt_name','ward','region'], axis=1)"
   ]
  },
  {
   "cell_type": "code",
   "execution_count": 194,
   "metadata": {
    "scrolled": true
   },
   "outputs": [],
   "source": [
    "# Turn construction_year into a categorical column containing the following values: '60s', '70s',\n",
    "# '80s', '90s, '00s', '10s', 'unknown'.\n",
    "\n",
    "def construction_wrangler(row):\n",
    "    if row['construction_year'] >= 1960 and row['construction_year'] < 1970:\n",
    "        return '60s'\n",
    "    elif row['construction_year'] >= 1970 and row['construction_year'] < 1980:\n",
    "        return '70s'\n",
    "    elif row['construction_year'] >= 1980 and row['construction_year'] < 1990:\n",
    "        return '80s'\n",
    "    elif row['construction_year'] >= 1990 and row['construction_year'] < 2000:\n",
    "        return '90s'\n",
    "    elif row['construction_year'] >= 2000 and row['construction_year'] < 2010:\n",
    "        return '00s'\n",
    "    elif row['construction_year'] >= 2010:\n",
    "        return '10s'\n",
    "    else:\n",
    "        return 'unknown'\n",
    "    \n",
    "train['construction_year'] = train.apply(lambda row: construction_wrangler(row), axis=1)\n",
    "test['construction_year'] = test.apply(lambda row: construction_wrangler(row), axis=1)"
   ]
  },
  {
   "cell_type": "code",
   "execution_count": 195,
   "metadata": {
    "scrolled": true
   },
   "outputs": [],
   "source": [
    "# convert date_recorded attribute to day since recorderd\n",
    "test.date_recorded = pd.datetime(2013, 12, 3) - pd.to_datetime(test.date_recorded)\n",
    "test.columns = ['days_since_recorded' if x=='date_recorded' else x for x in test.columns]\n",
    "test.days_since_recorded = test.days_since_recorded.astype('timedelta64[D]').astype(int)\n",
    "\n",
    "train.date_recorded = pd.datetime(2013, 12, 3) - pd.to_datetime(train.date_recorded)\n",
    "train.columns = ['days_since_recorded' if x=='date_recorded' else x for x in train.columns]\n",
    "train.days_since_recorded = train.days_since_recorded.astype('timedelta64[D]').astype(int)"
   ]
  },
  {
   "cell_type": "code",
   "execution_count": 196,
   "metadata": {
    "scrolled": false
   },
   "outputs": [
    {
     "data": {
      "text/plain": [
       "amount_tsh                  98\n",
       "days_since_recorded        356\n",
       "funder                      10\n",
       "gps_height                2428\n",
       "installer                    6\n",
       "longitude                57516\n",
       "latitude                 57517\n",
       "basin                        9\n",
       "region_code                 27\n",
       "district_code               20\n",
       "lga                        125\n",
       "population                1049\n",
       "public_meeting               3\n",
       "scheme_management            6\n",
       "permit                       3\n",
       "construction_year            7\n",
       "extraction_type_class        7\n",
       "management_group             5\n",
       "payment_type                 7\n",
       "water_quality                8\n",
       "quantity_group               5\n",
       "source_type                  7\n",
       "source_class                 3\n",
       "waterpoint_type_group        6\n",
       "status_group_vals            3\n",
       "dtype: int64"
      ]
     },
     "execution_count": 196,
     "metadata": {},
     "output_type": "execute_result"
    }
   ],
   "source": [
    "train.apply(lambda x: len(x.unique()))"
   ]
  },
  {
   "cell_type": "code",
   "execution_count": 197,
   "metadata": {
    "scrolled": true
   },
   "outputs": [
    {
     "data": {
      "text/plain": [
       "(59400, 25)"
      ]
     },
     "execution_count": 197,
     "metadata": {},
     "output_type": "execute_result"
    }
   ],
   "source": [
    "train.shape"
   ]
  },
  {
   "cell_type": "code",
   "execution_count": 198,
   "metadata": {
    "scrolled": true
   },
   "outputs": [
    {
     "data": {
      "text/plain": [
       "(14850, 24)"
      ]
     },
     "execution_count": 198,
     "metadata": {},
     "output_type": "execute_result"
    }
   ],
   "source": [
    "test.shape"
   ]
  },
  {
   "cell_type": "markdown",
   "metadata": {},
   "source": [
    "### one hot encodeing to convert categorical data to binary"
   ]
  },
  {
   "cell_type": "code",
   "execution_count": 199,
   "metadata": {
    "scrolled": true
   },
   "outputs": [],
   "source": [
    "import pandas as pd\n",
    "import numpy as np\n",
    "from sklearn.cross_validation import train_test_split\n",
    "from sklearn.svm import LinearSVC\n",
    "from sklearn.grid_search import GridSearchCV, RandomizedSearchCV\n",
    "from sklearn.pipeline import Pipeline\n",
    "from sklearn.preprocessing import StandardScaler\n",
    "from sklearn.ensemble import RandomForestClassifier\n",
    "from sklearn.ensemble import GradientBoostingClassifier\n",
    "import pandas_profiling\n",
    "#from boruta import BorutaPy\n",
    "from datetime import datetime"
   ]
  },
  {
   "cell_type": "code",
   "execution_count": 200,
   "metadata": {
    "scrolled": true
   },
   "outputs": [
    {
     "name": "stdout",
     "output_type": "stream",
     "text": [
      "<class 'pandas.core.frame.DataFrame'>\n",
      "Int64Index: 59400 entries, 0 to 59399\n",
      "Data columns (total 25 columns):\n",
      "amount_tsh               59400 non-null float64\n",
      "days_since_recorded      59400 non-null int32\n",
      "funder                   59400 non-null object\n",
      "gps_height               59400 non-null float64\n",
      "installer                59400 non-null object\n",
      "longitude                59400 non-null float64\n",
      "latitude                 59400 non-null float64\n",
      "basin                    59400 non-null object\n",
      "region_code              59400 non-null int64\n",
      "district_code            59400 non-null int64\n",
      "lga                      59400 non-null object\n",
      "population               59400 non-null float64\n",
      "public_meeting           59400 non-null object\n",
      "scheme_management        59400 non-null object\n",
      "permit                   59400 non-null object\n",
      "construction_year        59400 non-null object\n",
      "extraction_type_class    59400 non-null object\n",
      "management_group         59400 non-null object\n",
      "payment_type             59400 non-null object\n",
      "water_quality            59400 non-null object\n",
      "quantity_group           59400 non-null object\n",
      "source_type              59400 non-null object\n",
      "source_class             59400 non-null object\n",
      "waterpoint_type_group    59400 non-null object\n",
      "status_group_vals        59400 non-null int64\n",
      "dtypes: float64(5), int32(1), int64(3), object(16)\n",
      "memory usage: 11.6+ MB\n"
     ]
    }
   ],
   "source": [
    "train.info()"
   ]
  },
  {
   "cell_type": "code",
   "execution_count": 201,
   "metadata": {
    "scrolled": true
   },
   "outputs": [],
   "source": [
    "# Get dummy columns for the categorical columns and shuffle the data.\n",
    "\n",
    "dummy_cols = ['funder', 'installer', 'basin','lga', 'public_meeting', 'scheme_management', 'permit',\n",
    "              'construction_year', 'extraction_type_class','management_group', 'payment_type', 'water_quality',\n",
    "              'quantity_group', 'source_type', 'source_class','waterpoint_type_group']\n",
    "\n",
    "train = pd.get_dummies(train, columns = dummy_cols)\n",
    "\n",
    "train = train.sample(frac=1).reset_index(drop=True)"
   ]
  },
  {
   "cell_type": "code",
   "execution_count": 202,
   "metadata": {
    "scrolled": true
   },
   "outputs": [],
   "source": [
    "test = pd.get_dummies(test, columns = dummy_cols)"
   ]
  },
  {
   "cell_type": "code",
   "execution_count": 203,
   "metadata": {
    "scrolled": true
   },
   "outputs": [
    {
     "name": "stdout",
     "output_type": "stream",
     "text": [
      "Shape of training data (59400, 226)\n",
      "Shape of testing data (14850, 225)\n"
     ]
    }
   ],
   "source": [
    "print('Shape of training data',train.shape)\n",
    "print('Shape of testing data',test.shape)"
   ]
  },
  {
   "cell_type": "markdown",
   "metadata": {},
   "source": [
    "### Inference\n",
    "#### before preprocessing we had 59400 rows and 226 columns in training dataset\n",
    "#### after preprocessing we have 58680 rows and 225 columns"
   ]
  },
  {
   "cell_type": "markdown",
   "metadata": {},
   "source": [
    "### Selection of important attributes using random forest classifier"
   ]
  },
  {
   "cell_type": "code",
   "execution_count": 204,
   "metadata": {
    "scrolled": true
   },
   "outputs": [],
   "source": [
    "import pandas as pd\n",
    "import numpy as np\n",
    "from matplotlib import pyplot as plt\n",
    "import seaborn as sns\n",
    "%matplotlib inline\n",
    "from sklearn.feature_selection import RFE, f_regression\n",
    "from sklearn.linear_model import (LinearRegression, Ridge, Lasso, RandomizedLasso)\n",
    "from sklearn.preprocessing import MinMaxScaler\n",
    "from sklearn.ensemble import RandomForestRegressor\n",
    "from boruta import BorutaPy\n",
    "from datetime import datetime"
   ]
  },
  {
   "cell_type": "code",
   "execution_count": 205,
   "metadata": {},
   "outputs": [],
   "source": [
    "target = train.status_group_vals\n",
    "features = train.drop('status_group_vals', axis=1)\n",
    "\n",
    "features1=features.copy()"
   ]
  },
  {
   "cell_type": "code",
   "execution_count": 83,
   "metadata": {},
   "outputs": [
    {
     "name": "stdout",
     "output_type": "stream",
     "text": [
      "Iteration: \t1 / 100\n",
      "Confirmed: \t0\n",
      "Tentative: \t225\n",
      "Rejected: \t0\n",
      "Iteration: \t2 / 100\n",
      "Confirmed: \t0\n",
      "Tentative: \t225\n",
      "Rejected: \t0\n",
      "Iteration: \t3 / 100\n",
      "Confirmed: \t0\n",
      "Tentative: \t225\n",
      "Rejected: \t0\n",
      "Iteration: \t4 / 100\n",
      "Confirmed: \t0\n",
      "Tentative: \t225\n",
      "Rejected: \t0\n",
      "Iteration: \t5 / 100\n",
      "Confirmed: \t0\n",
      "Tentative: \t225\n",
      "Rejected: \t0\n",
      "Iteration: \t6 / 100\n",
      "Confirmed: \t0\n",
      "Tentative: \t225\n",
      "Rejected: \t0\n",
      "Iteration: \t7 / 100\n",
      "Confirmed: \t0\n",
      "Tentative: \t225\n",
      "Rejected: \t0\n",
      "Iteration: \t8 / 100\n",
      "Confirmed: \t85\n",
      "Tentative: \t31\n",
      "Rejected: \t109\n"
     ]
    },
    {
     "name": "stderr",
     "output_type": "stream",
     "text": [
      "C:\\Users\\hp\\Anaconda3\\lib\\site-packages\\boruta\\boruta_py.py:418: RuntimeWarning: invalid value encountered in greater\n",
      "  hits = np.where(cur_imp[0] > imp_sha_max)[0]\n"
     ]
    },
    {
     "name": "stdout",
     "output_type": "stream",
     "text": [
      "Iteration: \t9 / 100\n",
      "Confirmed: \t85\n",
      "Tentative: \t31\n",
      "Rejected: \t109\n"
     ]
    },
    {
     "name": "stderr",
     "output_type": "stream",
     "text": [
      "C:\\Users\\hp\\Anaconda3\\lib\\site-packages\\boruta\\boruta_py.py:418: RuntimeWarning: invalid value encountered in greater\n",
      "  hits = np.where(cur_imp[0] > imp_sha_max)[0]\n"
     ]
    },
    {
     "name": "stdout",
     "output_type": "stream",
     "text": [
      "Iteration: \t10 / 100\n",
      "Confirmed: \t85\n",
      "Tentative: \t31\n",
      "Rejected: \t109\n"
     ]
    },
    {
     "name": "stderr",
     "output_type": "stream",
     "text": [
      "C:\\Users\\hp\\Anaconda3\\lib\\site-packages\\boruta\\boruta_py.py:418: RuntimeWarning: invalid value encountered in greater\n",
      "  hits = np.where(cur_imp[0] > imp_sha_max)[0]\n"
     ]
    },
    {
     "name": "stdout",
     "output_type": "stream",
     "text": [
      "Iteration: \t11 / 100\n",
      "Confirmed: \t85\n",
      "Tentative: \t31\n",
      "Rejected: \t109\n"
     ]
    },
    {
     "name": "stderr",
     "output_type": "stream",
     "text": [
      "C:\\Users\\hp\\Anaconda3\\lib\\site-packages\\boruta\\boruta_py.py:418: RuntimeWarning: invalid value encountered in greater\n",
      "  hits = np.where(cur_imp[0] > imp_sha_max)[0]\n"
     ]
    },
    {
     "name": "stdout",
     "output_type": "stream",
     "text": [
      "Iteration: \t12 / 100\n",
      "Confirmed: \t86\n",
      "Tentative: \t30\n",
      "Rejected: \t109\n"
     ]
    },
    {
     "name": "stderr",
     "output_type": "stream",
     "text": [
      "C:\\Users\\hp\\Anaconda3\\lib\\site-packages\\boruta\\boruta_py.py:418: RuntimeWarning: invalid value encountered in greater\n",
      "  hits = np.where(cur_imp[0] > imp_sha_max)[0]\n"
     ]
    },
    {
     "name": "stdout",
     "output_type": "stream",
     "text": [
      "Iteration: \t13 / 100\n",
      "Confirmed: \t86\n",
      "Tentative: \t25\n",
      "Rejected: \t114\n"
     ]
    },
    {
     "name": "stderr",
     "output_type": "stream",
     "text": [
      "C:\\Users\\hp\\Anaconda3\\lib\\site-packages\\boruta\\boruta_py.py:418: RuntimeWarning: invalid value encountered in greater\n",
      "  hits = np.where(cur_imp[0] > imp_sha_max)[0]\n"
     ]
    },
    {
     "name": "stdout",
     "output_type": "stream",
     "text": [
      "Iteration: \t14 / 100\n",
      "Confirmed: \t86\n",
      "Tentative: \t25\n",
      "Rejected: \t114\n"
     ]
    },
    {
     "name": "stderr",
     "output_type": "stream",
     "text": [
      "C:\\Users\\hp\\Anaconda3\\lib\\site-packages\\boruta\\boruta_py.py:418: RuntimeWarning: invalid value encountered in greater\n",
      "  hits = np.where(cur_imp[0] > imp_sha_max)[0]\n"
     ]
    },
    {
     "name": "stdout",
     "output_type": "stream",
     "text": [
      "Iteration: \t15 / 100\n",
      "Confirmed: \t86\n",
      "Tentative: \t25\n",
      "Rejected: \t114\n"
     ]
    },
    {
     "name": "stderr",
     "output_type": "stream",
     "text": [
      "C:\\Users\\hp\\Anaconda3\\lib\\site-packages\\boruta\\boruta_py.py:418: RuntimeWarning: invalid value encountered in greater\n",
      "  hits = np.where(cur_imp[0] > imp_sha_max)[0]\n"
     ]
    },
    {
     "name": "stdout",
     "output_type": "stream",
     "text": [
      "Iteration: \t16 / 100\n",
      "Confirmed: \t87\n",
      "Tentative: \t24\n",
      "Rejected: \t114\n"
     ]
    },
    {
     "name": "stderr",
     "output_type": "stream",
     "text": [
      "C:\\Users\\hp\\Anaconda3\\lib\\site-packages\\boruta\\boruta_py.py:418: RuntimeWarning: invalid value encountered in greater\n",
      "  hits = np.where(cur_imp[0] > imp_sha_max)[0]\n"
     ]
    },
    {
     "name": "stdout",
     "output_type": "stream",
     "text": [
      "Iteration: \t17 / 100\n",
      "Confirmed: \t87\n",
      "Tentative: \t24\n",
      "Rejected: \t114\n"
     ]
    },
    {
     "name": "stderr",
     "output_type": "stream",
     "text": [
      "C:\\Users\\hp\\Anaconda3\\lib\\site-packages\\boruta\\boruta_py.py:418: RuntimeWarning: invalid value encountered in greater\n",
      "  hits = np.where(cur_imp[0] > imp_sha_max)[0]\n"
     ]
    },
    {
     "name": "stdout",
     "output_type": "stream",
     "text": [
      "Iteration: \t18 / 100\n",
      "Confirmed: \t87\n",
      "Tentative: \t24\n",
      "Rejected: \t114\n"
     ]
    },
    {
     "name": "stderr",
     "output_type": "stream",
     "text": [
      "C:\\Users\\hp\\Anaconda3\\lib\\site-packages\\boruta\\boruta_py.py:418: RuntimeWarning: invalid value encountered in greater\n",
      "  hits = np.where(cur_imp[0] > imp_sha_max)[0]\n"
     ]
    },
    {
     "name": "stdout",
     "output_type": "stream",
     "text": [
      "Iteration: \t19 / 100\n",
      "Confirmed: \t88\n",
      "Tentative: \t22\n",
      "Rejected: \t115\n"
     ]
    },
    {
     "name": "stderr",
     "output_type": "stream",
     "text": [
      "C:\\Users\\hp\\Anaconda3\\lib\\site-packages\\boruta\\boruta_py.py:418: RuntimeWarning: invalid value encountered in greater\n",
      "  hits = np.where(cur_imp[0] > imp_sha_max)[0]\n"
     ]
    },
    {
     "name": "stdout",
     "output_type": "stream",
     "text": [
      "Iteration: \t20 / 100\n",
      "Confirmed: \t88\n",
      "Tentative: \t22\n",
      "Rejected: \t115\n"
     ]
    },
    {
     "name": "stderr",
     "output_type": "stream",
     "text": [
      "C:\\Users\\hp\\Anaconda3\\lib\\site-packages\\boruta\\boruta_py.py:418: RuntimeWarning: invalid value encountered in greater\n",
      "  hits = np.where(cur_imp[0] > imp_sha_max)[0]\n"
     ]
    },
    {
     "name": "stdout",
     "output_type": "stream",
     "text": [
      "Iteration: \t21 / 100\n",
      "Confirmed: \t88\n",
      "Tentative: \t20\n",
      "Rejected: \t117\n"
     ]
    },
    {
     "name": "stderr",
     "output_type": "stream",
     "text": [
      "C:\\Users\\hp\\Anaconda3\\lib\\site-packages\\boruta\\boruta_py.py:418: RuntimeWarning: invalid value encountered in greater\n",
      "  hits = np.where(cur_imp[0] > imp_sha_max)[0]\n"
     ]
    },
    {
     "name": "stdout",
     "output_type": "stream",
     "text": [
      "Iteration: \t22 / 100\n",
      "Confirmed: \t88\n",
      "Tentative: \t20\n",
      "Rejected: \t117\n"
     ]
    },
    {
     "name": "stderr",
     "output_type": "stream",
     "text": [
      "C:\\Users\\hp\\Anaconda3\\lib\\site-packages\\boruta\\boruta_py.py:418: RuntimeWarning: invalid value encountered in greater\n",
      "  hits = np.where(cur_imp[0] > imp_sha_max)[0]\n"
     ]
    },
    {
     "name": "stdout",
     "output_type": "stream",
     "text": [
      "Iteration: \t23 / 100\n",
      "Confirmed: \t88\n",
      "Tentative: \t17\n",
      "Rejected: \t120\n"
     ]
    },
    {
     "name": "stderr",
     "output_type": "stream",
     "text": [
      "C:\\Users\\hp\\Anaconda3\\lib\\site-packages\\boruta\\boruta_py.py:418: RuntimeWarning: invalid value encountered in greater\n",
      "  hits = np.where(cur_imp[0] > imp_sha_max)[0]\n"
     ]
    },
    {
     "name": "stdout",
     "output_type": "stream",
     "text": [
      "Iteration: \t24 / 100\n",
      "Confirmed: \t88\n",
      "Tentative: \t17\n",
      "Rejected: \t120\n"
     ]
    },
    {
     "name": "stderr",
     "output_type": "stream",
     "text": [
      "C:\\Users\\hp\\Anaconda3\\lib\\site-packages\\boruta\\boruta_py.py:418: RuntimeWarning: invalid value encountered in greater\n",
      "  hits = np.where(cur_imp[0] > imp_sha_max)[0]\n"
     ]
    },
    {
     "name": "stdout",
     "output_type": "stream",
     "text": [
      "Iteration: \t25 / 100\n",
      "Confirmed: \t88\n",
      "Tentative: \t17\n",
      "Rejected: \t120\n"
     ]
    },
    {
     "name": "stderr",
     "output_type": "stream",
     "text": [
      "C:\\Users\\hp\\Anaconda3\\lib\\site-packages\\boruta\\boruta_py.py:418: RuntimeWarning: invalid value encountered in greater\n",
      "  hits = np.where(cur_imp[0] > imp_sha_max)[0]\n"
     ]
    },
    {
     "name": "stdout",
     "output_type": "stream",
     "text": [
      "Iteration: \t26 / 100\n",
      "Confirmed: \t89\n",
      "Tentative: \t16\n",
      "Rejected: \t120\n"
     ]
    },
    {
     "name": "stderr",
     "output_type": "stream",
     "text": [
      "C:\\Users\\hp\\Anaconda3\\lib\\site-packages\\boruta\\boruta_py.py:418: RuntimeWarning: invalid value encountered in greater\n",
      "  hits = np.where(cur_imp[0] > imp_sha_max)[0]\n"
     ]
    },
    {
     "name": "stdout",
     "output_type": "stream",
     "text": [
      "Iteration: \t27 / 100\n",
      "Confirmed: \t89\n",
      "Tentative: \t16\n",
      "Rejected: \t120\n"
     ]
    },
    {
     "name": "stderr",
     "output_type": "stream",
     "text": [
      "C:\\Users\\hp\\Anaconda3\\lib\\site-packages\\boruta\\boruta_py.py:418: RuntimeWarning: invalid value encountered in greater\n",
      "  hits = np.where(cur_imp[0] > imp_sha_max)[0]\n"
     ]
    },
    {
     "name": "stdout",
     "output_type": "stream",
     "text": [
      "Iteration: \t28 / 100\n",
      "Confirmed: \t89\n",
      "Tentative: \t15\n",
      "Rejected: \t121\n"
     ]
    },
    {
     "name": "stderr",
     "output_type": "stream",
     "text": [
      "C:\\Users\\hp\\Anaconda3\\lib\\site-packages\\boruta\\boruta_py.py:418: RuntimeWarning: invalid value encountered in greater\n",
      "  hits = np.where(cur_imp[0] > imp_sha_max)[0]\n"
     ]
    },
    {
     "name": "stdout",
     "output_type": "stream",
     "text": [
      "Iteration: \t29 / 100\n",
      "Confirmed: \t90\n",
      "Tentative: \t14\n",
      "Rejected: \t121\n"
     ]
    },
    {
     "name": "stderr",
     "output_type": "stream",
     "text": [
      "C:\\Users\\hp\\Anaconda3\\lib\\site-packages\\boruta\\boruta_py.py:418: RuntimeWarning: invalid value encountered in greater\n",
      "  hits = np.where(cur_imp[0] > imp_sha_max)[0]\n"
     ]
    },
    {
     "name": "stdout",
     "output_type": "stream",
     "text": [
      "Iteration: \t30 / 100\n",
      "Confirmed: \t90\n",
      "Tentative: \t14\n",
      "Rejected: \t121\n"
     ]
    },
    {
     "name": "stderr",
     "output_type": "stream",
     "text": [
      "C:\\Users\\hp\\Anaconda3\\lib\\site-packages\\boruta\\boruta_py.py:418: RuntimeWarning: invalid value encountered in greater\n",
      "  hits = np.where(cur_imp[0] > imp_sha_max)[0]\n"
     ]
    },
    {
     "name": "stdout",
     "output_type": "stream",
     "text": [
      "Iteration: \t31 / 100\n",
      "Confirmed: \t90\n",
      "Tentative: \t14\n",
      "Rejected: \t121\n"
     ]
    },
    {
     "name": "stderr",
     "output_type": "stream",
     "text": [
      "C:\\Users\\hp\\Anaconda3\\lib\\site-packages\\boruta\\boruta_py.py:418: RuntimeWarning: invalid value encountered in greater\n",
      "  hits = np.where(cur_imp[0] > imp_sha_max)[0]\n"
     ]
    },
    {
     "name": "stdout",
     "output_type": "stream",
     "text": [
      "Iteration: \t32 / 100\n",
      "Confirmed: \t90\n",
      "Tentative: \t14\n",
      "Rejected: \t121\n"
     ]
    },
    {
     "name": "stderr",
     "output_type": "stream",
     "text": [
      "C:\\Users\\hp\\Anaconda3\\lib\\site-packages\\boruta\\boruta_py.py:418: RuntimeWarning: invalid value encountered in greater\n",
      "  hits = np.where(cur_imp[0] > imp_sha_max)[0]\n"
     ]
    },
    {
     "name": "stdout",
     "output_type": "stream",
     "text": [
      "Iteration: \t33 / 100\n",
      "Confirmed: \t90\n",
      "Tentative: \t14\n",
      "Rejected: \t121\n"
     ]
    },
    {
     "name": "stderr",
     "output_type": "stream",
     "text": [
      "C:\\Users\\hp\\Anaconda3\\lib\\site-packages\\boruta\\boruta_py.py:418: RuntimeWarning: invalid value encountered in greater\n",
      "  hits = np.where(cur_imp[0] > imp_sha_max)[0]\n"
     ]
    },
    {
     "name": "stdout",
     "output_type": "stream",
     "text": [
      "Iteration: \t34 / 100\n",
      "Confirmed: \t90\n",
      "Tentative: \t13\n",
      "Rejected: \t122\n"
     ]
    },
    {
     "name": "stderr",
     "output_type": "stream",
     "text": [
      "C:\\Users\\hp\\Anaconda3\\lib\\site-packages\\boruta\\boruta_py.py:418: RuntimeWarning: invalid value encountered in greater\n",
      "  hits = np.where(cur_imp[0] > imp_sha_max)[0]\n"
     ]
    },
    {
     "name": "stdout",
     "output_type": "stream",
     "text": [
      "Iteration: \t35 / 100\n",
      "Confirmed: \t90\n",
      "Tentative: \t13\n",
      "Rejected: \t122\n"
     ]
    },
    {
     "name": "stderr",
     "output_type": "stream",
     "text": [
      "C:\\Users\\hp\\Anaconda3\\lib\\site-packages\\boruta\\boruta_py.py:418: RuntimeWarning: invalid value encountered in greater\n",
      "  hits = np.where(cur_imp[0] > imp_sha_max)[0]\n"
     ]
    },
    {
     "name": "stdout",
     "output_type": "stream",
     "text": [
      "Iteration: \t36 / 100\n",
      "Confirmed: \t90\n",
      "Tentative: \t13\n",
      "Rejected: \t122\n"
     ]
    },
    {
     "name": "stderr",
     "output_type": "stream",
     "text": [
      "C:\\Users\\hp\\Anaconda3\\lib\\site-packages\\boruta\\boruta_py.py:418: RuntimeWarning: invalid value encountered in greater\n",
      "  hits = np.where(cur_imp[0] > imp_sha_max)[0]\n"
     ]
    },
    {
     "name": "stdout",
     "output_type": "stream",
     "text": [
      "Iteration: \t37 / 100\n",
      "Confirmed: \t90\n",
      "Tentative: \t13\n",
      "Rejected: \t122\n"
     ]
    },
    {
     "name": "stderr",
     "output_type": "stream",
     "text": [
      "C:\\Users\\hp\\Anaconda3\\lib\\site-packages\\boruta\\boruta_py.py:418: RuntimeWarning: invalid value encountered in greater\n",
      "  hits = np.where(cur_imp[0] > imp_sha_max)[0]\n"
     ]
    },
    {
     "name": "stdout",
     "output_type": "stream",
     "text": [
      "Iteration: \t38 / 100\n",
      "Confirmed: \t90\n",
      "Tentative: \t13\n",
      "Rejected: \t122\n"
     ]
    },
    {
     "name": "stderr",
     "output_type": "stream",
     "text": [
      "C:\\Users\\hp\\Anaconda3\\lib\\site-packages\\boruta\\boruta_py.py:418: RuntimeWarning: invalid value encountered in greater\n",
      "  hits = np.where(cur_imp[0] > imp_sha_max)[0]\n"
     ]
    },
    {
     "name": "stdout",
     "output_type": "stream",
     "text": [
      "Iteration: \t39 / 100\n",
      "Confirmed: \t90\n",
      "Tentative: \t13\n",
      "Rejected: \t122\n"
     ]
    },
    {
     "name": "stderr",
     "output_type": "stream",
     "text": [
      "C:\\Users\\hp\\Anaconda3\\lib\\site-packages\\boruta\\boruta_py.py:418: RuntimeWarning: invalid value encountered in greater\n",
      "  hits = np.where(cur_imp[0] > imp_sha_max)[0]\n"
     ]
    },
    {
     "name": "stdout",
     "output_type": "stream",
     "text": [
      "Iteration: \t40 / 100\n",
      "Confirmed: \t90\n",
      "Tentative: \t13\n",
      "Rejected: \t122\n"
     ]
    },
    {
     "name": "stderr",
     "output_type": "stream",
     "text": [
      "C:\\Users\\hp\\Anaconda3\\lib\\site-packages\\boruta\\boruta_py.py:418: RuntimeWarning: invalid value encountered in greater\n",
      "  hits = np.where(cur_imp[0] > imp_sha_max)[0]\n"
     ]
    },
    {
     "name": "stdout",
     "output_type": "stream",
     "text": [
      "Iteration: \t41 / 100\n",
      "Confirmed: \t90\n",
      "Tentative: \t13\n",
      "Rejected: \t122\n"
     ]
    },
    {
     "name": "stderr",
     "output_type": "stream",
     "text": [
      "C:\\Users\\hp\\Anaconda3\\lib\\site-packages\\boruta\\boruta_py.py:418: RuntimeWarning: invalid value encountered in greater\n",
      "  hits = np.where(cur_imp[0] > imp_sha_max)[0]\n"
     ]
    },
    {
     "name": "stdout",
     "output_type": "stream",
     "text": [
      "Iteration: \t42 / 100\n",
      "Confirmed: \t90\n",
      "Tentative: \t12\n",
      "Rejected: \t123\n"
     ]
    },
    {
     "name": "stderr",
     "output_type": "stream",
     "text": [
      "C:\\Users\\hp\\Anaconda3\\lib\\site-packages\\boruta\\boruta_py.py:418: RuntimeWarning: invalid value encountered in greater\n",
      "  hits = np.where(cur_imp[0] > imp_sha_max)[0]\n"
     ]
    },
    {
     "name": "stdout",
     "output_type": "stream",
     "text": [
      "Iteration: \t43 / 100\n",
      "Confirmed: \t90\n",
      "Tentative: \t12\n",
      "Rejected: \t123\n"
     ]
    },
    {
     "name": "stderr",
     "output_type": "stream",
     "text": [
      "C:\\Users\\hp\\Anaconda3\\lib\\site-packages\\boruta\\boruta_py.py:418: RuntimeWarning: invalid value encountered in greater\n",
      "  hits = np.where(cur_imp[0] > imp_sha_max)[0]\n"
     ]
    },
    {
     "name": "stdout",
     "output_type": "stream",
     "text": [
      "Iteration: \t44 / 100\n",
      "Confirmed: \t90\n",
      "Tentative: \t12\n",
      "Rejected: \t123\n"
     ]
    },
    {
     "name": "stderr",
     "output_type": "stream",
     "text": [
      "C:\\Users\\hp\\Anaconda3\\lib\\site-packages\\boruta\\boruta_py.py:418: RuntimeWarning: invalid value encountered in greater\n",
      "  hits = np.where(cur_imp[0] > imp_sha_max)[0]\n"
     ]
    },
    {
     "name": "stdout",
     "output_type": "stream",
     "text": [
      "Iteration: \t45 / 100\n",
      "Confirmed: \t90\n",
      "Tentative: \t11\n",
      "Rejected: \t124\n"
     ]
    },
    {
     "name": "stderr",
     "output_type": "stream",
     "text": [
      "C:\\Users\\hp\\Anaconda3\\lib\\site-packages\\boruta\\boruta_py.py:418: RuntimeWarning: invalid value encountered in greater\n",
      "  hits = np.where(cur_imp[0] > imp_sha_max)[0]\n"
     ]
    },
    {
     "name": "stdout",
     "output_type": "stream",
     "text": [
      "Iteration: \t46 / 100\n",
      "Confirmed: \t90\n",
      "Tentative: \t11\n",
      "Rejected: \t124\n"
     ]
    },
    {
     "name": "stderr",
     "output_type": "stream",
     "text": [
      "C:\\Users\\hp\\Anaconda3\\lib\\site-packages\\boruta\\boruta_py.py:418: RuntimeWarning: invalid value encountered in greater\n",
      "  hits = np.where(cur_imp[0] > imp_sha_max)[0]\n"
     ]
    },
    {
     "name": "stdout",
     "output_type": "stream",
     "text": [
      "Iteration: \t47 / 100\n",
      "Confirmed: \t90\n",
      "Tentative: \t11\n",
      "Rejected: \t124\n"
     ]
    },
    {
     "name": "stderr",
     "output_type": "stream",
     "text": [
      "C:\\Users\\hp\\Anaconda3\\lib\\site-packages\\boruta\\boruta_py.py:418: RuntimeWarning: invalid value encountered in greater\n",
      "  hits = np.where(cur_imp[0] > imp_sha_max)[0]\n"
     ]
    },
    {
     "name": "stdout",
     "output_type": "stream",
     "text": [
      "Iteration: \t48 / 100\n",
      "Confirmed: \t90\n",
      "Tentative: \t11\n",
      "Rejected: \t124\n"
     ]
    },
    {
     "name": "stderr",
     "output_type": "stream",
     "text": [
      "C:\\Users\\hp\\Anaconda3\\lib\\site-packages\\boruta\\boruta_py.py:418: RuntimeWarning: invalid value encountered in greater\n",
      "  hits = np.where(cur_imp[0] > imp_sha_max)[0]\n"
     ]
    },
    {
     "name": "stdout",
     "output_type": "stream",
     "text": [
      "Iteration: \t49 / 100\n",
      "Confirmed: \t90\n",
      "Tentative: \t11\n",
      "Rejected: \t124\n"
     ]
    },
    {
     "name": "stderr",
     "output_type": "stream",
     "text": [
      "C:\\Users\\hp\\Anaconda3\\lib\\site-packages\\boruta\\boruta_py.py:418: RuntimeWarning: invalid value encountered in greater\n",
      "  hits = np.where(cur_imp[0] > imp_sha_max)[0]\n"
     ]
    },
    {
     "name": "stdout",
     "output_type": "stream",
     "text": [
      "Iteration: \t50 / 100\n",
      "Confirmed: \t90\n",
      "Tentative: \t11\n",
      "Rejected: \t124\n"
     ]
    },
    {
     "name": "stderr",
     "output_type": "stream",
     "text": [
      "C:\\Users\\hp\\Anaconda3\\lib\\site-packages\\boruta\\boruta_py.py:418: RuntimeWarning: invalid value encountered in greater\n",
      "  hits = np.where(cur_imp[0] > imp_sha_max)[0]\n"
     ]
    },
    {
     "name": "stdout",
     "output_type": "stream",
     "text": [
      "Iteration: \t51 / 100\n",
      "Confirmed: \t90\n",
      "Tentative: \t11\n",
      "Rejected: \t124\n"
     ]
    },
    {
     "name": "stderr",
     "output_type": "stream",
     "text": [
      "C:\\Users\\hp\\Anaconda3\\lib\\site-packages\\boruta\\boruta_py.py:418: RuntimeWarning: invalid value encountered in greater\n",
      "  hits = np.where(cur_imp[0] > imp_sha_max)[0]\n"
     ]
    },
    {
     "name": "stdout",
     "output_type": "stream",
     "text": [
      "Iteration: \t52 / 100\n",
      "Confirmed: \t90\n",
      "Tentative: \t11\n",
      "Rejected: \t124\n"
     ]
    },
    {
     "name": "stderr",
     "output_type": "stream",
     "text": [
      "C:\\Users\\hp\\Anaconda3\\lib\\site-packages\\boruta\\boruta_py.py:418: RuntimeWarning: invalid value encountered in greater\n",
      "  hits = np.where(cur_imp[0] > imp_sha_max)[0]\n"
     ]
    },
    {
     "name": "stdout",
     "output_type": "stream",
     "text": [
      "Iteration: \t53 / 100\n",
      "Confirmed: \t90\n",
      "Tentative: \t11\n",
      "Rejected: \t124\n"
     ]
    },
    {
     "name": "stderr",
     "output_type": "stream",
     "text": [
      "C:\\Users\\hp\\Anaconda3\\lib\\site-packages\\boruta\\boruta_py.py:418: RuntimeWarning: invalid value encountered in greater\n",
      "  hits = np.where(cur_imp[0] > imp_sha_max)[0]\n"
     ]
    },
    {
     "name": "stdout",
     "output_type": "stream",
     "text": [
      "Iteration: \t54 / 100\n",
      "Confirmed: \t90\n",
      "Tentative: \t11\n",
      "Rejected: \t124\n"
     ]
    },
    {
     "name": "stderr",
     "output_type": "stream",
     "text": [
      "C:\\Users\\hp\\Anaconda3\\lib\\site-packages\\boruta\\boruta_py.py:418: RuntimeWarning: invalid value encountered in greater\n",
      "  hits = np.where(cur_imp[0] > imp_sha_max)[0]\n"
     ]
    },
    {
     "name": "stdout",
     "output_type": "stream",
     "text": [
      "Iteration: \t55 / 100\n",
      "Confirmed: \t90\n",
      "Tentative: \t11\n",
      "Rejected: \t124\n"
     ]
    },
    {
     "name": "stderr",
     "output_type": "stream",
     "text": [
      "C:\\Users\\hp\\Anaconda3\\lib\\site-packages\\boruta\\boruta_py.py:418: RuntimeWarning: invalid value encountered in greater\n",
      "  hits = np.where(cur_imp[0] > imp_sha_max)[0]\n"
     ]
    },
    {
     "name": "stdout",
     "output_type": "stream",
     "text": [
      "Iteration: \t56 / 100\n",
      "Confirmed: \t90\n",
      "Tentative: \t11\n",
      "Rejected: \t124\n"
     ]
    },
    {
     "name": "stderr",
     "output_type": "stream",
     "text": [
      "C:\\Users\\hp\\Anaconda3\\lib\\site-packages\\boruta\\boruta_py.py:418: RuntimeWarning: invalid value encountered in greater\n",
      "  hits = np.where(cur_imp[0] > imp_sha_max)[0]\n"
     ]
    },
    {
     "name": "stdout",
     "output_type": "stream",
     "text": [
      "Iteration: \t57 / 100\n",
      "Confirmed: \t91\n",
      "Tentative: \t10\n",
      "Rejected: \t124\n"
     ]
    },
    {
     "name": "stderr",
     "output_type": "stream",
     "text": [
      "C:\\Users\\hp\\Anaconda3\\lib\\site-packages\\boruta\\boruta_py.py:418: RuntimeWarning: invalid value encountered in greater\n",
      "  hits = np.where(cur_imp[0] > imp_sha_max)[0]\n"
     ]
    },
    {
     "name": "stdout",
     "output_type": "stream",
     "text": [
      "Iteration: \t58 / 100\n",
      "Confirmed: \t91\n",
      "Tentative: \t9\n",
      "Rejected: \t125\n"
     ]
    },
    {
     "name": "stderr",
     "output_type": "stream",
     "text": [
      "C:\\Users\\hp\\Anaconda3\\lib\\site-packages\\boruta\\boruta_py.py:418: RuntimeWarning: invalid value encountered in greater\n",
      "  hits = np.where(cur_imp[0] > imp_sha_max)[0]\n"
     ]
    },
    {
     "name": "stdout",
     "output_type": "stream",
     "text": [
      "Iteration: \t59 / 100\n",
      "Confirmed: \t91\n",
      "Tentative: \t9\n",
      "Rejected: \t125\n"
     ]
    },
    {
     "name": "stderr",
     "output_type": "stream",
     "text": [
      "C:\\Users\\hp\\Anaconda3\\lib\\site-packages\\boruta\\boruta_py.py:418: RuntimeWarning: invalid value encountered in greater\n",
      "  hits = np.where(cur_imp[0] > imp_sha_max)[0]\n"
     ]
    },
    {
     "name": "stdout",
     "output_type": "stream",
     "text": [
      "Iteration: \t60 / 100\n",
      "Confirmed: \t91\n",
      "Tentative: \t9\n",
      "Rejected: \t125\n"
     ]
    },
    {
     "name": "stderr",
     "output_type": "stream",
     "text": [
      "C:\\Users\\hp\\Anaconda3\\lib\\site-packages\\boruta\\boruta_py.py:418: RuntimeWarning: invalid value encountered in greater\n",
      "  hits = np.where(cur_imp[0] > imp_sha_max)[0]\n"
     ]
    },
    {
     "name": "stdout",
     "output_type": "stream",
     "text": [
      "Iteration: \t61 / 100\n",
      "Confirmed: \t91\n",
      "Tentative: \t9\n",
      "Rejected: \t125\n"
     ]
    },
    {
     "name": "stderr",
     "output_type": "stream",
     "text": [
      "C:\\Users\\hp\\Anaconda3\\lib\\site-packages\\boruta\\boruta_py.py:418: RuntimeWarning: invalid value encountered in greater\n",
      "  hits = np.where(cur_imp[0] > imp_sha_max)[0]\n"
     ]
    },
    {
     "name": "stdout",
     "output_type": "stream",
     "text": [
      "Iteration: \t62 / 100\n",
      "Confirmed: \t91\n",
      "Tentative: \t9\n",
      "Rejected: \t125\n"
     ]
    },
    {
     "name": "stderr",
     "output_type": "stream",
     "text": [
      "C:\\Users\\hp\\Anaconda3\\lib\\site-packages\\boruta\\boruta_py.py:418: RuntimeWarning: invalid value encountered in greater\n",
      "  hits = np.where(cur_imp[0] > imp_sha_max)[0]\n"
     ]
    },
    {
     "name": "stdout",
     "output_type": "stream",
     "text": [
      "Iteration: \t63 / 100\n",
      "Confirmed: \t91\n",
      "Tentative: \t9\n",
      "Rejected: \t125\n"
     ]
    },
    {
     "name": "stderr",
     "output_type": "stream",
     "text": [
      "C:\\Users\\hp\\Anaconda3\\lib\\site-packages\\boruta\\boruta_py.py:418: RuntimeWarning: invalid value encountered in greater\n",
      "  hits = np.where(cur_imp[0] > imp_sha_max)[0]\n"
     ]
    },
    {
     "name": "stdout",
     "output_type": "stream",
     "text": [
      "Iteration: \t64 / 100\n",
      "Confirmed: \t91\n",
      "Tentative: \t9\n",
      "Rejected: \t125\n"
     ]
    },
    {
     "name": "stderr",
     "output_type": "stream",
     "text": [
      "C:\\Users\\hp\\Anaconda3\\lib\\site-packages\\boruta\\boruta_py.py:418: RuntimeWarning: invalid value encountered in greater\n",
      "  hits = np.where(cur_imp[0] > imp_sha_max)[0]\n"
     ]
    },
    {
     "name": "stdout",
     "output_type": "stream",
     "text": [
      "Iteration: \t65 / 100\n",
      "Confirmed: \t91\n",
      "Tentative: \t9\n",
      "Rejected: \t125\n"
     ]
    },
    {
     "name": "stderr",
     "output_type": "stream",
     "text": [
      "C:\\Users\\hp\\Anaconda3\\lib\\site-packages\\boruta\\boruta_py.py:418: RuntimeWarning: invalid value encountered in greater\n",
      "  hits = np.where(cur_imp[0] > imp_sha_max)[0]\n"
     ]
    },
    {
     "name": "stdout",
     "output_type": "stream",
     "text": [
      "Iteration: \t66 / 100\n",
      "Confirmed: \t91\n",
      "Tentative: \t9\n",
      "Rejected: \t125\n"
     ]
    },
    {
     "name": "stderr",
     "output_type": "stream",
     "text": [
      "C:\\Users\\hp\\Anaconda3\\lib\\site-packages\\boruta\\boruta_py.py:418: RuntimeWarning: invalid value encountered in greater\n",
      "  hits = np.where(cur_imp[0] > imp_sha_max)[0]\n"
     ]
    },
    {
     "name": "stdout",
     "output_type": "stream",
     "text": [
      "Iteration: \t67 / 100\n",
      "Confirmed: \t91\n",
      "Tentative: \t9\n",
      "Rejected: \t125\n"
     ]
    },
    {
     "name": "stderr",
     "output_type": "stream",
     "text": [
      "C:\\Users\\hp\\Anaconda3\\lib\\site-packages\\boruta\\boruta_py.py:418: RuntimeWarning: invalid value encountered in greater\n",
      "  hits = np.where(cur_imp[0] > imp_sha_max)[0]\n"
     ]
    },
    {
     "name": "stdout",
     "output_type": "stream",
     "text": [
      "Iteration: \t68 / 100\n",
      "Confirmed: \t91\n",
      "Tentative: \t9\n",
      "Rejected: \t125\n"
     ]
    },
    {
     "name": "stderr",
     "output_type": "stream",
     "text": [
      "C:\\Users\\hp\\Anaconda3\\lib\\site-packages\\boruta\\boruta_py.py:418: RuntimeWarning: invalid value encountered in greater\n",
      "  hits = np.where(cur_imp[0] > imp_sha_max)[0]\n"
     ]
    },
    {
     "name": "stdout",
     "output_type": "stream",
     "text": [
      "Iteration: \t69 / 100\n",
      "Confirmed: \t91\n",
      "Tentative: \t9\n",
      "Rejected: \t125\n"
     ]
    },
    {
     "name": "stderr",
     "output_type": "stream",
     "text": [
      "C:\\Users\\hp\\Anaconda3\\lib\\site-packages\\boruta\\boruta_py.py:418: RuntimeWarning: invalid value encountered in greater\n",
      "  hits = np.where(cur_imp[0] > imp_sha_max)[0]\n"
     ]
    },
    {
     "name": "stdout",
     "output_type": "stream",
     "text": [
      "Iteration: \t70 / 100\n",
      "Confirmed: \t91\n",
      "Tentative: \t9\n",
      "Rejected: \t125\n"
     ]
    },
    {
     "name": "stderr",
     "output_type": "stream",
     "text": [
      "C:\\Users\\hp\\Anaconda3\\lib\\site-packages\\boruta\\boruta_py.py:418: RuntimeWarning: invalid value encountered in greater\n",
      "  hits = np.where(cur_imp[0] > imp_sha_max)[0]\n"
     ]
    },
    {
     "name": "stdout",
     "output_type": "stream",
     "text": [
      "Iteration: \t71 / 100\n",
      "Confirmed: \t91\n",
      "Tentative: \t9\n",
      "Rejected: \t125\n"
     ]
    },
    {
     "name": "stderr",
     "output_type": "stream",
     "text": [
      "C:\\Users\\hp\\Anaconda3\\lib\\site-packages\\boruta\\boruta_py.py:418: RuntimeWarning: invalid value encountered in greater\n",
      "  hits = np.where(cur_imp[0] > imp_sha_max)[0]\n"
     ]
    },
    {
     "name": "stdout",
     "output_type": "stream",
     "text": [
      "Iteration: \t72 / 100\n",
      "Confirmed: \t91\n",
      "Tentative: \t9\n",
      "Rejected: \t125\n"
     ]
    },
    {
     "name": "stderr",
     "output_type": "stream",
     "text": [
      "C:\\Users\\hp\\Anaconda3\\lib\\site-packages\\boruta\\boruta_py.py:418: RuntimeWarning: invalid value encountered in greater\n",
      "  hits = np.where(cur_imp[0] > imp_sha_max)[0]\n"
     ]
    },
    {
     "name": "stdout",
     "output_type": "stream",
     "text": [
      "Iteration: \t73 / 100\n",
      "Confirmed: \t91\n",
      "Tentative: \t8\n",
      "Rejected: \t126\n"
     ]
    },
    {
     "name": "stderr",
     "output_type": "stream",
     "text": [
      "C:\\Users\\hp\\Anaconda3\\lib\\site-packages\\boruta\\boruta_py.py:418: RuntimeWarning: invalid value encountered in greater\n",
      "  hits = np.where(cur_imp[0] > imp_sha_max)[0]\n"
     ]
    },
    {
     "name": "stdout",
     "output_type": "stream",
     "text": [
      "Iteration: \t74 / 100\n",
      "Confirmed: \t91\n",
      "Tentative: \t8\n",
      "Rejected: \t126\n"
     ]
    },
    {
     "name": "stderr",
     "output_type": "stream",
     "text": [
      "C:\\Users\\hp\\Anaconda3\\lib\\site-packages\\boruta\\boruta_py.py:418: RuntimeWarning: invalid value encountered in greater\n",
      "  hits = np.where(cur_imp[0] > imp_sha_max)[0]\n"
     ]
    },
    {
     "name": "stdout",
     "output_type": "stream",
     "text": [
      "Iteration: \t75 / 100\n",
      "Confirmed: \t91\n",
      "Tentative: \t8\n",
      "Rejected: \t126\n"
     ]
    },
    {
     "name": "stderr",
     "output_type": "stream",
     "text": [
      "C:\\Users\\hp\\Anaconda3\\lib\\site-packages\\boruta\\boruta_py.py:418: RuntimeWarning: invalid value encountered in greater\n",
      "  hits = np.where(cur_imp[0] > imp_sha_max)[0]\n"
     ]
    },
    {
     "name": "stdout",
     "output_type": "stream",
     "text": [
      "Iteration: \t76 / 100\n",
      "Confirmed: \t91\n",
      "Tentative: \t8\n",
      "Rejected: \t126\n"
     ]
    },
    {
     "name": "stderr",
     "output_type": "stream",
     "text": [
      "C:\\Users\\hp\\Anaconda3\\lib\\site-packages\\boruta\\boruta_py.py:418: RuntimeWarning: invalid value encountered in greater\n",
      "  hits = np.where(cur_imp[0] > imp_sha_max)[0]\n"
     ]
    },
    {
     "name": "stdout",
     "output_type": "stream",
     "text": [
      "Iteration: \t77 / 100\n",
      "Confirmed: \t91\n",
      "Tentative: \t8\n",
      "Rejected: \t126\n"
     ]
    },
    {
     "name": "stderr",
     "output_type": "stream",
     "text": [
      "C:\\Users\\hp\\Anaconda3\\lib\\site-packages\\boruta\\boruta_py.py:418: RuntimeWarning: invalid value encountered in greater\n",
      "  hits = np.where(cur_imp[0] > imp_sha_max)[0]\n"
     ]
    },
    {
     "name": "stdout",
     "output_type": "stream",
     "text": [
      "Iteration: \t78 / 100\n",
      "Confirmed: \t91\n",
      "Tentative: \t8\n",
      "Rejected: \t126\n"
     ]
    },
    {
     "name": "stderr",
     "output_type": "stream",
     "text": [
      "C:\\Users\\hp\\Anaconda3\\lib\\site-packages\\boruta\\boruta_py.py:418: RuntimeWarning: invalid value encountered in greater\n",
      "  hits = np.where(cur_imp[0] > imp_sha_max)[0]\n"
     ]
    },
    {
     "name": "stdout",
     "output_type": "stream",
     "text": [
      "Iteration: \t79 / 100\n",
      "Confirmed: \t91\n",
      "Tentative: \t8\n",
      "Rejected: \t126\n"
     ]
    },
    {
     "name": "stderr",
     "output_type": "stream",
     "text": [
      "C:\\Users\\hp\\Anaconda3\\lib\\site-packages\\boruta\\boruta_py.py:418: RuntimeWarning: invalid value encountered in greater\n",
      "  hits = np.where(cur_imp[0] > imp_sha_max)[0]\n"
     ]
    },
    {
     "name": "stdout",
     "output_type": "stream",
     "text": [
      "Iteration: \t80 / 100\n",
      "Confirmed: \t91\n",
      "Tentative: \t8\n",
      "Rejected: \t126\n"
     ]
    },
    {
     "name": "stderr",
     "output_type": "stream",
     "text": [
      "C:\\Users\\hp\\Anaconda3\\lib\\site-packages\\boruta\\boruta_py.py:418: RuntimeWarning: invalid value encountered in greater\n",
      "  hits = np.where(cur_imp[0] > imp_sha_max)[0]\n"
     ]
    },
    {
     "name": "stdout",
     "output_type": "stream",
     "text": [
      "Iteration: \t81 / 100\n",
      "Confirmed: \t91\n",
      "Tentative: \t8\n",
      "Rejected: \t126\n"
     ]
    },
    {
     "name": "stderr",
     "output_type": "stream",
     "text": [
      "C:\\Users\\hp\\Anaconda3\\lib\\site-packages\\boruta\\boruta_py.py:418: RuntimeWarning: invalid value encountered in greater\n",
      "  hits = np.where(cur_imp[0] > imp_sha_max)[0]\n"
     ]
    },
    {
     "name": "stdout",
     "output_type": "stream",
     "text": [
      "Iteration: \t82 / 100\n",
      "Confirmed: \t91\n",
      "Tentative: \t8\n",
      "Rejected: \t126\n"
     ]
    },
    {
     "name": "stderr",
     "output_type": "stream",
     "text": [
      "C:\\Users\\hp\\Anaconda3\\lib\\site-packages\\boruta\\boruta_py.py:418: RuntimeWarning: invalid value encountered in greater\n",
      "  hits = np.where(cur_imp[0] > imp_sha_max)[0]\n"
     ]
    },
    {
     "name": "stdout",
     "output_type": "stream",
     "text": [
      "Iteration: \t83 / 100\n",
      "Confirmed: \t91\n",
      "Tentative: \t8\n",
      "Rejected: \t126\n"
     ]
    },
    {
     "name": "stderr",
     "output_type": "stream",
     "text": [
      "C:\\Users\\hp\\Anaconda3\\lib\\site-packages\\boruta\\boruta_py.py:418: RuntimeWarning: invalid value encountered in greater\n",
      "  hits = np.where(cur_imp[0] > imp_sha_max)[0]\n"
     ]
    },
    {
     "name": "stdout",
     "output_type": "stream",
     "text": [
      "Iteration: \t84 / 100\n",
      "Confirmed: \t91\n",
      "Tentative: \t8\n",
      "Rejected: \t126\n"
     ]
    },
    {
     "name": "stderr",
     "output_type": "stream",
     "text": [
      "C:\\Users\\hp\\Anaconda3\\lib\\site-packages\\boruta\\boruta_py.py:418: RuntimeWarning: invalid value encountered in greater\n",
      "  hits = np.where(cur_imp[0] > imp_sha_max)[0]\n"
     ]
    },
    {
     "name": "stdout",
     "output_type": "stream",
     "text": [
      "Iteration: \t85 / 100\n",
      "Confirmed: \t91\n",
      "Tentative: \t8\n",
      "Rejected: \t126\n"
     ]
    },
    {
     "name": "stderr",
     "output_type": "stream",
     "text": [
      "C:\\Users\\hp\\Anaconda3\\lib\\site-packages\\boruta\\boruta_py.py:418: RuntimeWarning: invalid value encountered in greater\n",
      "  hits = np.where(cur_imp[0] > imp_sha_max)[0]\n"
     ]
    },
    {
     "name": "stdout",
     "output_type": "stream",
     "text": [
      "Iteration: \t86 / 100\n",
      "Confirmed: \t91\n",
      "Tentative: \t8\n",
      "Rejected: \t126\n"
     ]
    },
    {
     "name": "stderr",
     "output_type": "stream",
     "text": [
      "C:\\Users\\hp\\Anaconda3\\lib\\site-packages\\boruta\\boruta_py.py:418: RuntimeWarning: invalid value encountered in greater\n",
      "  hits = np.where(cur_imp[0] > imp_sha_max)[0]\n"
     ]
    },
    {
     "name": "stdout",
     "output_type": "stream",
     "text": [
      "Iteration: \t87 / 100\n",
      "Confirmed: \t91\n",
      "Tentative: \t8\n",
      "Rejected: \t126\n"
     ]
    },
    {
     "name": "stderr",
     "output_type": "stream",
     "text": [
      "C:\\Users\\hp\\Anaconda3\\lib\\site-packages\\boruta\\boruta_py.py:418: RuntimeWarning: invalid value encountered in greater\n",
      "  hits = np.where(cur_imp[0] > imp_sha_max)[0]\n"
     ]
    },
    {
     "name": "stdout",
     "output_type": "stream",
     "text": [
      "Iteration: \t88 / 100\n",
      "Confirmed: \t91\n",
      "Tentative: \t8\n",
      "Rejected: \t126\n"
     ]
    },
    {
     "name": "stderr",
     "output_type": "stream",
     "text": [
      "C:\\Users\\hp\\Anaconda3\\lib\\site-packages\\boruta\\boruta_py.py:418: RuntimeWarning: invalid value encountered in greater\n",
      "  hits = np.where(cur_imp[0] > imp_sha_max)[0]\n"
     ]
    },
    {
     "name": "stdout",
     "output_type": "stream",
     "text": [
      "Iteration: \t89 / 100\n",
      "Confirmed: \t91\n",
      "Tentative: \t8\n",
      "Rejected: \t126\n"
     ]
    },
    {
     "name": "stderr",
     "output_type": "stream",
     "text": [
      "C:\\Users\\hp\\Anaconda3\\lib\\site-packages\\boruta\\boruta_py.py:418: RuntimeWarning: invalid value encountered in greater\n",
      "  hits = np.where(cur_imp[0] > imp_sha_max)[0]\n"
     ]
    },
    {
     "name": "stdout",
     "output_type": "stream",
     "text": [
      "Iteration: \t90 / 100\n",
      "Confirmed: \t91\n",
      "Tentative: \t8\n",
      "Rejected: \t126\n"
     ]
    },
    {
     "name": "stderr",
     "output_type": "stream",
     "text": [
      "C:\\Users\\hp\\Anaconda3\\lib\\site-packages\\boruta\\boruta_py.py:418: RuntimeWarning: invalid value encountered in greater\n",
      "  hits = np.where(cur_imp[0] > imp_sha_max)[0]\n"
     ]
    },
    {
     "name": "stdout",
     "output_type": "stream",
     "text": [
      "Iteration: \t91 / 100\n",
      "Confirmed: \t91\n",
      "Tentative: \t8\n",
      "Rejected: \t126\n"
     ]
    },
    {
     "name": "stderr",
     "output_type": "stream",
     "text": [
      "C:\\Users\\hp\\Anaconda3\\lib\\site-packages\\boruta\\boruta_py.py:418: RuntimeWarning: invalid value encountered in greater\n",
      "  hits = np.where(cur_imp[0] > imp_sha_max)[0]\n"
     ]
    },
    {
     "name": "stdout",
     "output_type": "stream",
     "text": [
      "Iteration: \t92 / 100\n",
      "Confirmed: \t91\n",
      "Tentative: \t8\n",
      "Rejected: \t126\n"
     ]
    },
    {
     "name": "stderr",
     "output_type": "stream",
     "text": [
      "C:\\Users\\hp\\Anaconda3\\lib\\site-packages\\boruta\\boruta_py.py:418: RuntimeWarning: invalid value encountered in greater\n",
      "  hits = np.where(cur_imp[0] > imp_sha_max)[0]\n"
     ]
    },
    {
     "name": "stdout",
     "output_type": "stream",
     "text": [
      "Iteration: \t93 / 100\n",
      "Confirmed: \t91\n",
      "Tentative: \t7\n",
      "Rejected: \t127\n"
     ]
    },
    {
     "name": "stderr",
     "output_type": "stream",
     "text": [
      "C:\\Users\\hp\\Anaconda3\\lib\\site-packages\\boruta\\boruta_py.py:418: RuntimeWarning: invalid value encountered in greater\n",
      "  hits = np.where(cur_imp[0] > imp_sha_max)[0]\n"
     ]
    },
    {
     "name": "stdout",
     "output_type": "stream",
     "text": [
      "Iteration: \t94 / 100\n",
      "Confirmed: \t91\n",
      "Tentative: \t7\n",
      "Rejected: \t127\n"
     ]
    },
    {
     "name": "stderr",
     "output_type": "stream",
     "text": [
      "C:\\Users\\hp\\Anaconda3\\lib\\site-packages\\boruta\\boruta_py.py:418: RuntimeWarning: invalid value encountered in greater\n",
      "  hits = np.where(cur_imp[0] > imp_sha_max)[0]\n"
     ]
    },
    {
     "name": "stdout",
     "output_type": "stream",
     "text": [
      "Iteration: \t95 / 100\n",
      "Confirmed: \t91\n",
      "Tentative: \t7\n",
      "Rejected: \t127\n"
     ]
    },
    {
     "name": "stderr",
     "output_type": "stream",
     "text": [
      "C:\\Users\\hp\\Anaconda3\\lib\\site-packages\\boruta\\boruta_py.py:418: RuntimeWarning: invalid value encountered in greater\n",
      "  hits = np.where(cur_imp[0] > imp_sha_max)[0]\n"
     ]
    },
    {
     "name": "stdout",
     "output_type": "stream",
     "text": [
      "Iteration: \t96 / 100\n",
      "Confirmed: \t91\n",
      "Tentative: \t7\n",
      "Rejected: \t127\n"
     ]
    },
    {
     "name": "stderr",
     "output_type": "stream",
     "text": [
      "C:\\Users\\hp\\Anaconda3\\lib\\site-packages\\boruta\\boruta_py.py:418: RuntimeWarning: invalid value encountered in greater\n",
      "  hits = np.where(cur_imp[0] > imp_sha_max)[0]\n"
     ]
    },
    {
     "name": "stdout",
     "output_type": "stream",
     "text": [
      "Iteration: \t97 / 100\n",
      "Confirmed: \t91\n",
      "Tentative: \t7\n",
      "Rejected: \t127\n"
     ]
    },
    {
     "name": "stderr",
     "output_type": "stream",
     "text": [
      "C:\\Users\\hp\\Anaconda3\\lib\\site-packages\\boruta\\boruta_py.py:418: RuntimeWarning: invalid value encountered in greater\n",
      "  hits = np.where(cur_imp[0] > imp_sha_max)[0]\n"
     ]
    },
    {
     "name": "stdout",
     "output_type": "stream",
     "text": [
      "Iteration: \t98 / 100\n",
      "Confirmed: \t91\n",
      "Tentative: \t7\n",
      "Rejected: \t127\n"
     ]
    },
    {
     "name": "stderr",
     "output_type": "stream",
     "text": [
      "C:\\Users\\hp\\Anaconda3\\lib\\site-packages\\boruta\\boruta_py.py:418: RuntimeWarning: invalid value encountered in greater\n",
      "  hits = np.where(cur_imp[0] > imp_sha_max)[0]\n"
     ]
    },
    {
     "name": "stdout",
     "output_type": "stream",
     "text": [
      "Iteration: \t99 / 100\n",
      "Confirmed: \t91\n",
      "Tentative: \t7\n",
      "Rejected: \t127\n",
      "\n",
      "\n",
      "BorutaPy finished running.\n",
      "\n",
      "Iteration: \t100 / 100\n",
      "Confirmed: \t91\n",
      "Tentative: \t5\n",
      "Rejected: \t127\n"
     ]
    },
    {
     "data": {
      "text/plain": [
       "BorutaPy(alpha=0.05,\n",
       "     estimator=RandomForestClassifier(bootstrap=True, class_weight=None, criterion='gini',\n",
       "            max_depth=6, max_features='auto', max_leaf_nodes=None,\n",
       "            min_samples_leaf=1, min_samples_split=2,\n",
       "            min_weight_fraction_leaf=0.0, n_estimators=233, n_jobs=-1,\n",
       "            oob_score=True,\n",
       "            random_state=<mtrand.RandomState object at 0x0000016AB1CB7510>,\n",
       "            verbose=0, warm_start=False),\n",
       "     max_iter=100, n_estimators='auto', perc=100,\n",
       "     random_state=<mtrand.RandomState object at 0x0000016AB1CB7510>,\n",
       "     two_step=True, verbose=2)"
      ]
     },
     "execution_count": 83,
     "metadata": {},
     "output_type": "execute_result"
    }
   ],
   "source": [
    "rf = RandomForestClassifier(criterion='gini',\n",
    "                                n_estimators=500,\n",
    "                                max_features='auto',\n",
    "                                oob_score=True,\n",
    "                                random_state=1,\n",
    "                                n_jobs=-1,\n",
    "                                max_depth=6)\n",
    "\n",
    "X_boruta=features.values\n",
    "y_boruta=target.values\n",
    "\n",
    "boruta_selector = BorutaPy(rf, n_estimators='auto', verbose=2)\n",
    "#start_time = timer(None)\n",
    "boruta_selector.fit(X_boruta,y_boruta)\n",
    "#timer(start_time)"
   ]
  },
  {
   "cell_type": "code",
   "execution_count": 84,
   "metadata": {},
   "outputs": [
    {
     "name": "stdout",
     "output_type": "stream",
     "text": [
      "\n",
      " Number of selected features:\n",
      "91\n"
     ]
    }
   ],
   "source": [
    "\n",
    "# number of selected features\n",
    "print ('\\n Number of selected features:')\n",
    "print (boruta_selector.n_features_)"
   ]
  },
  {
   "cell_type": "code",
   "execution_count": 85,
   "metadata": {},
   "outputs": [
    {
     "name": "stdout",
     "output_type": "stream",
     "text": [
      "\n",
      " Top 91 features:\n",
      "                                        0  rank\n",
      "0                              amount_tsh     1\n",
      "1                   construction_year_70s     1\n",
      "2                   construction_year_10s     1\n",
      "3                   construction_year_00s     1\n",
      "4                          permit_Unknown     1\n",
      "5                             permit_True     1\n",
      "6                            permit_False     1\n",
      "7                   scheme_management_wug     1\n",
      "8                   scheme_management_wua     1\n",
      "9               scheme_management_wtr_brd     1\n",
      "10             scheme_management_wtr_auth     1\n",
      "11                  scheme_management_vwc     1\n",
      "12                scheme_management_other     1\n",
      "13                 public_meeting_Unknown     1\n",
      "14                    public_meeting_True     1\n",
      "15                   public_meeting_False     1\n",
      "16                      lga_Singida Rural     1\n",
      "17                               lga_Siha     1\n",
      "18                              lga_Rombo     1\n",
      "19                            lga_Pangani     1\n",
      "20                             lga_Njombe     1\n",
      "21                              lga_Ngara     1\n",
      "22                         lga_Nachingwea     1\n",
      "23  waterpoint_type_group_improved spring     1\n",
      "24                        lga_Moshi Rural     1\n",
      "25                             lga_Masasi     1\n",
      "26                             lga_Makete     1\n",
      "27                              lga_Kyela     1\n",
      "28                  construction_year_80s     1\n",
      "29                       lga_Kigoma Rural     1\n",
      "..                                    ...   ...\n",
      "61            waterpoint_type_group_other     1\n",
      "62                           funder_other     1\n",
      "63                      funder_world_bank     1\n",
      "64                          district_code     1\n",
      "65                         basin_Internal     1\n",
      "66                        installer_commu     1\n",
      "67                             population     1\n",
      "68          basin_Ruvuma / Southern Coast     1\n",
      "69                           basin_Rufiji     1\n",
      "70                       basin_Lake Nyasa     1\n",
      "71                            region_code     1\n",
      "72                          installer_rwe     1\n",
      "73                               latitude     1\n",
      "74                       basin_Lake Rukwa     1\n",
      "75                             lga_Kahama     1\n",
      "76                          basin_Pangani     1\n",
      "77                              longitude     1\n",
      "78                  basin_Lake Tanganyika     1\n",
      "79                        installer_other     1\n",
      "80                            lga_Bariadi     1\n",
      "81                      basin_Wami / Ruvu     1\n",
      "82                          funder_danida     1\n",
      "83                      funder_government     1\n",
      "84                   installer_government     1\n",
      "85                             gps_height     1\n",
      "86                          installer_dwe     1\n",
      "87                    days_since_recorded     1\n",
      "88                    basin_Lake Victoria     1\n",
      "89                             lga_Karatu     1\n",
      "90                             lga_Chunya     1\n",
      "\n",
      "[91 rows x 2 columns]\n"
     ]
    }
   ],
   "source": [
    "features1=pd.DataFrame(features.columns.tolist())\n",
    "features1['rank']=boruta_selector.ranking_\n",
    "features1 = features1.sort_values('rank', ascending=True).reset_index(drop=True)\n",
    "print ('\\n Top %d features:' % boruta_selector.n_features_)\n",
    "print (features1.head(boruta_selector.n_features_))"
   ]
  },
  {
   "cell_type": "code",
   "execution_count": 86,
   "metadata": {},
   "outputs": [
    {
     "data": {
      "text/html": [
       "<div>\n",
       "<style scoped>\n",
       "    .dataframe tbody tr th:only-of-type {\n",
       "        vertical-align: middle;\n",
       "    }\n",
       "\n",
       "    .dataframe tbody tr th {\n",
       "        vertical-align: top;\n",
       "    }\n",
       "\n",
       "    .dataframe thead th {\n",
       "        text-align: right;\n",
       "    }\n",
       "</style>\n",
       "<table border=\"1\" class=\"dataframe\">\n",
       "  <thead>\n",
       "    <tr style=\"text-align: right;\">\n",
       "      <th></th>\n",
       "      <th>0</th>\n",
       "      <th>rank</th>\n",
       "    </tr>\n",
       "  </thead>\n",
       "  <tbody>\n",
       "    <tr>\n",
       "      <th>0</th>\n",
       "      <td>amount_tsh</td>\n",
       "      <td>1</td>\n",
       "    </tr>\n",
       "    <tr>\n",
       "      <th>1</th>\n",
       "      <td>construction_year_70s</td>\n",
       "      <td>1</td>\n",
       "    </tr>\n",
       "    <tr>\n",
       "      <th>2</th>\n",
       "      <td>construction_year_10s</td>\n",
       "      <td>1</td>\n",
       "    </tr>\n",
       "    <tr>\n",
       "      <th>3</th>\n",
       "      <td>construction_year_00s</td>\n",
       "      <td>1</td>\n",
       "    </tr>\n",
       "    <tr>\n",
       "      <th>4</th>\n",
       "      <td>permit_Unknown</td>\n",
       "      <td>1</td>\n",
       "    </tr>\n",
       "    <tr>\n",
       "      <th>5</th>\n",
       "      <td>permit_True</td>\n",
       "      <td>1</td>\n",
       "    </tr>\n",
       "    <tr>\n",
       "      <th>6</th>\n",
       "      <td>permit_False</td>\n",
       "      <td>1</td>\n",
       "    </tr>\n",
       "    <tr>\n",
       "      <th>7</th>\n",
       "      <td>scheme_management_wug</td>\n",
       "      <td>1</td>\n",
       "    </tr>\n",
       "    <tr>\n",
       "      <th>8</th>\n",
       "      <td>scheme_management_wua</td>\n",
       "      <td>1</td>\n",
       "    </tr>\n",
       "    <tr>\n",
       "      <th>9</th>\n",
       "      <td>scheme_management_wtr_brd</td>\n",
       "      <td>1</td>\n",
       "    </tr>\n",
       "    <tr>\n",
       "      <th>10</th>\n",
       "      <td>scheme_management_wtr_auth</td>\n",
       "      <td>1</td>\n",
       "    </tr>\n",
       "    <tr>\n",
       "      <th>11</th>\n",
       "      <td>scheme_management_vwc</td>\n",
       "      <td>1</td>\n",
       "    </tr>\n",
       "    <tr>\n",
       "      <th>12</th>\n",
       "      <td>scheme_management_other</td>\n",
       "      <td>1</td>\n",
       "    </tr>\n",
       "    <tr>\n",
       "      <th>13</th>\n",
       "      <td>public_meeting_Unknown</td>\n",
       "      <td>1</td>\n",
       "    </tr>\n",
       "    <tr>\n",
       "      <th>14</th>\n",
       "      <td>public_meeting_True</td>\n",
       "      <td>1</td>\n",
       "    </tr>\n",
       "    <tr>\n",
       "      <th>15</th>\n",
       "      <td>public_meeting_False</td>\n",
       "      <td>1</td>\n",
       "    </tr>\n",
       "    <tr>\n",
       "      <th>16</th>\n",
       "      <td>lga_Singida Rural</td>\n",
       "      <td>1</td>\n",
       "    </tr>\n",
       "    <tr>\n",
       "      <th>17</th>\n",
       "      <td>lga_Siha</td>\n",
       "      <td>1</td>\n",
       "    </tr>\n",
       "    <tr>\n",
       "      <th>18</th>\n",
       "      <td>lga_Rombo</td>\n",
       "      <td>1</td>\n",
       "    </tr>\n",
       "    <tr>\n",
       "      <th>19</th>\n",
       "      <td>lga_Pangani</td>\n",
       "      <td>1</td>\n",
       "    </tr>\n",
       "    <tr>\n",
       "      <th>20</th>\n",
       "      <td>lga_Njombe</td>\n",
       "      <td>1</td>\n",
       "    </tr>\n",
       "    <tr>\n",
       "      <th>21</th>\n",
       "      <td>lga_Ngara</td>\n",
       "      <td>1</td>\n",
       "    </tr>\n",
       "    <tr>\n",
       "      <th>22</th>\n",
       "      <td>lga_Nachingwea</td>\n",
       "      <td>1</td>\n",
       "    </tr>\n",
       "    <tr>\n",
       "      <th>23</th>\n",
       "      <td>waterpoint_type_group_improved spring</td>\n",
       "      <td>1</td>\n",
       "    </tr>\n",
       "    <tr>\n",
       "      <th>24</th>\n",
       "      <td>lga_Moshi Rural</td>\n",
       "      <td>1</td>\n",
       "    </tr>\n",
       "    <tr>\n",
       "      <th>25</th>\n",
       "      <td>lga_Masasi</td>\n",
       "      <td>1</td>\n",
       "    </tr>\n",
       "    <tr>\n",
       "      <th>26</th>\n",
       "      <td>lga_Makete</td>\n",
       "      <td>1</td>\n",
       "    </tr>\n",
       "    <tr>\n",
       "      <th>27</th>\n",
       "      <td>lga_Kyela</td>\n",
       "      <td>1</td>\n",
       "    </tr>\n",
       "    <tr>\n",
       "      <th>28</th>\n",
       "      <td>construction_year_80s</td>\n",
       "      <td>1</td>\n",
       "    </tr>\n",
       "    <tr>\n",
       "      <th>29</th>\n",
       "      <td>lga_Kigoma Rural</td>\n",
       "      <td>1</td>\n",
       "    </tr>\n",
       "    <tr>\n",
       "      <th>...</th>\n",
       "      <td>...</td>\n",
       "      <td>...</td>\n",
       "    </tr>\n",
       "    <tr>\n",
       "      <th>195</th>\n",
       "      <td>lga_Mufindi</td>\n",
       "      <td>102</td>\n",
       "    </tr>\n",
       "    <tr>\n",
       "      <th>196</th>\n",
       "      <td>lga_Mpwapwa</td>\n",
       "      <td>102</td>\n",
       "    </tr>\n",
       "    <tr>\n",
       "      <th>197</th>\n",
       "      <td>lga_Simanjiro</td>\n",
       "      <td>104</td>\n",
       "    </tr>\n",
       "    <tr>\n",
       "      <th>198</th>\n",
       "      <td>lga_Singida Urban</td>\n",
       "      <td>105</td>\n",
       "    </tr>\n",
       "    <tr>\n",
       "      <th>199</th>\n",
       "      <td>lga_Korogwe</td>\n",
       "      <td>105</td>\n",
       "    </tr>\n",
       "    <tr>\n",
       "      <th>200</th>\n",
       "      <td>lga_Kigoma Urban</td>\n",
       "      <td>107</td>\n",
       "    </tr>\n",
       "    <tr>\n",
       "      <th>201</th>\n",
       "      <td>lga_Iramba</td>\n",
       "      <td>108</td>\n",
       "    </tr>\n",
       "    <tr>\n",
       "      <th>202</th>\n",
       "      <td>lga_Mtwara Urban</td>\n",
       "      <td>109</td>\n",
       "    </tr>\n",
       "    <tr>\n",
       "      <th>203</th>\n",
       "      <td>lga_Handeni</td>\n",
       "      <td>110</td>\n",
       "    </tr>\n",
       "    <tr>\n",
       "      <th>204</th>\n",
       "      <td>lga_Longido</td>\n",
       "      <td>111</td>\n",
       "    </tr>\n",
       "    <tr>\n",
       "      <th>205</th>\n",
       "      <td>lga_Biharamulo</td>\n",
       "      <td>112</td>\n",
       "    </tr>\n",
       "    <tr>\n",
       "      <th>206</th>\n",
       "      <td>lga_Bukoba Rural</td>\n",
       "      <td>112</td>\n",
       "    </tr>\n",
       "    <tr>\n",
       "      <th>207</th>\n",
       "      <td>lga_Kilolo</td>\n",
       "      <td>114</td>\n",
       "    </tr>\n",
       "    <tr>\n",
       "      <th>208</th>\n",
       "      <td>waterpoint_type_group_cattle trough</td>\n",
       "      <td>115</td>\n",
       "    </tr>\n",
       "    <tr>\n",
       "      <th>209</th>\n",
       "      <td>extraction_type_class_wind-powered</td>\n",
       "      <td>116</td>\n",
       "    </tr>\n",
       "    <tr>\n",
       "      <th>210</th>\n",
       "      <td>lga_Ngorongoro</td>\n",
       "      <td>117</td>\n",
       "    </tr>\n",
       "    <tr>\n",
       "      <th>211</th>\n",
       "      <td>lga_Urambo</td>\n",
       "      <td>118</td>\n",
       "    </tr>\n",
       "    <tr>\n",
       "      <th>212</th>\n",
       "      <td>lga_Arusha Urban</td>\n",
       "      <td>119</td>\n",
       "    </tr>\n",
       "    <tr>\n",
       "      <th>213</th>\n",
       "      <td>lga_Kinondoni</td>\n",
       "      <td>120</td>\n",
       "    </tr>\n",
       "    <tr>\n",
       "      <th>214</th>\n",
       "      <td>lga_Tanga</td>\n",
       "      <td>121</td>\n",
       "    </tr>\n",
       "    <tr>\n",
       "      <th>215</th>\n",
       "      <td>lga_Shinyanga Urban</td>\n",
       "      <td>122</td>\n",
       "    </tr>\n",
       "    <tr>\n",
       "      <th>216</th>\n",
       "      <td>lga_Ilemela</td>\n",
       "      <td>122</td>\n",
       "    </tr>\n",
       "    <tr>\n",
       "      <th>217</th>\n",
       "      <td>lga_Chato</td>\n",
       "      <td>124</td>\n",
       "    </tr>\n",
       "    <tr>\n",
       "      <th>218</th>\n",
       "      <td>lga_Bukoba Urban</td>\n",
       "      <td>125</td>\n",
       "    </tr>\n",
       "    <tr>\n",
       "      <th>219</th>\n",
       "      <td>lga_Songea Urban</td>\n",
       "      <td>125</td>\n",
       "    </tr>\n",
       "    <tr>\n",
       "      <th>220</th>\n",
       "      <td>lga_Morogoro Urban</td>\n",
       "      <td>127</td>\n",
       "    </tr>\n",
       "    <tr>\n",
       "      <th>221</th>\n",
       "      <td>waterpoint_type_group_dam</td>\n",
       "      <td>128</td>\n",
       "    </tr>\n",
       "    <tr>\n",
       "      <th>222</th>\n",
       "      <td>water_quality_fluoride abandoned</td>\n",
       "      <td>129</td>\n",
       "    </tr>\n",
       "    <tr>\n",
       "      <th>223</th>\n",
       "      <td>lga_Lindi Urban</td>\n",
       "      <td>130</td>\n",
       "    </tr>\n",
       "    <tr>\n",
       "      <th>224</th>\n",
       "      <td>lga_Nyamagana</td>\n",
       "      <td>131</td>\n",
       "    </tr>\n",
       "  </tbody>\n",
       "</table>\n",
       "<p>225 rows × 2 columns</p>\n",
       "</div>"
      ],
      "text/plain": [
       "                                         0  rank\n",
       "0                               amount_tsh     1\n",
       "1                    construction_year_70s     1\n",
       "2                    construction_year_10s     1\n",
       "3                    construction_year_00s     1\n",
       "4                           permit_Unknown     1\n",
       "5                              permit_True     1\n",
       "6                             permit_False     1\n",
       "7                    scheme_management_wug     1\n",
       "8                    scheme_management_wua     1\n",
       "9                scheme_management_wtr_brd     1\n",
       "10              scheme_management_wtr_auth     1\n",
       "11                   scheme_management_vwc     1\n",
       "12                 scheme_management_other     1\n",
       "13                  public_meeting_Unknown     1\n",
       "14                     public_meeting_True     1\n",
       "15                    public_meeting_False     1\n",
       "16                       lga_Singida Rural     1\n",
       "17                                lga_Siha     1\n",
       "18                               lga_Rombo     1\n",
       "19                             lga_Pangani     1\n",
       "20                              lga_Njombe     1\n",
       "21                               lga_Ngara     1\n",
       "22                          lga_Nachingwea     1\n",
       "23   waterpoint_type_group_improved spring     1\n",
       "24                         lga_Moshi Rural     1\n",
       "25                              lga_Masasi     1\n",
       "26                              lga_Makete     1\n",
       "27                               lga_Kyela     1\n",
       "28                   construction_year_80s     1\n",
       "29                        lga_Kigoma Rural     1\n",
       "..                                     ...   ...\n",
       "195                            lga_Mufindi   102\n",
       "196                            lga_Mpwapwa   102\n",
       "197                          lga_Simanjiro   104\n",
       "198                      lga_Singida Urban   105\n",
       "199                            lga_Korogwe   105\n",
       "200                       lga_Kigoma Urban   107\n",
       "201                             lga_Iramba   108\n",
       "202                       lga_Mtwara Urban   109\n",
       "203                            lga_Handeni   110\n",
       "204                            lga_Longido   111\n",
       "205                         lga_Biharamulo   112\n",
       "206                       lga_Bukoba Rural   112\n",
       "207                             lga_Kilolo   114\n",
       "208    waterpoint_type_group_cattle trough   115\n",
       "209     extraction_type_class_wind-powered   116\n",
       "210                         lga_Ngorongoro   117\n",
       "211                             lga_Urambo   118\n",
       "212                       lga_Arusha Urban   119\n",
       "213                          lga_Kinondoni   120\n",
       "214                              lga_Tanga   121\n",
       "215                    lga_Shinyanga Urban   122\n",
       "216                            lga_Ilemela   122\n",
       "217                              lga_Chato   124\n",
       "218                       lga_Bukoba Urban   125\n",
       "219                       lga_Songea Urban   125\n",
       "220                     lga_Morogoro Urban   127\n",
       "221              waterpoint_type_group_dam   128\n",
       "222       water_quality_fluoride abandoned   129\n",
       "223                        lga_Lindi Urban   130\n",
       "224                          lga_Nyamagana   131\n",
       "\n",
       "[225 rows x 2 columns]"
      ]
     },
     "execution_count": 86,
     "metadata": {},
     "output_type": "execute_result"
    }
   ],
   "source": [
    "features1=pd.DataFrame(features.columns.tolist())\n",
    "features1['rank']=boruta_selector.ranking_\n",
    "features1 = features1.sort_values('rank', ascending=True).reset_index(drop=True)\n",
    "features1"
   ]
  },
  {
   "cell_type": "code",
   "execution_count": 206,
   "metadata": {},
   "outputs": [],
   "source": [
    "#drop the least ranked attributes\n",
    "train=train.drop(['lga_Mufindi',\n",
    "'lga_Mpwapwa',\n",
    "'lga_Simanjiro',\n",
    "'lga_Singida Urban',\n",
    "'lga_Korogwe',\n",
    "'lga_Kigoma Urban',\n",
    "'lga_Iramba',\n",
    "'lga_Mtwara Urban',\n",
    "'lga_Handeni',\n",
    "'lga_Longido',\n",
    "'lga_Biharamulo',\n",
    "'lga_Bukoba Rural',\n",
    "'lga_Kilolo',\n",
    "'waterpoint_type_group_cattle trough',\n",
    "'extraction_type_class_wind-powered',\n",
    "'lga_Ngorongoro',\n",
    "'lga_Urambo',\n",
    "'lga_Arusha Urban',\n",
    "'lga_Kinondoni',\n",
    "'lga_Tanga',\n",
    "'lga_Shinyanga Urban',\n",
    "'lga_Ilemela',\n",
    "'lga_Chato',\n",
    "'lga_Bukoba Urban',\n",
    "'lga_Songea Urban',\n",
    "'lga_Morogoro Urban',\n",
    "'waterpoint_type_group_dam',\n",
    "'water_quality_fluoride abandoned',\n",
    "'lga_Lindi Urban',\n",
    "'lga_Nyamagana'],axis=1)\n",
    "\n",
    "test=test.drop(['lga_Mufindi',\n",
    "'lga_Mpwapwa',\n",
    "'lga_Simanjiro',\n",
    "'lga_Singida Urban',\n",
    "'lga_Korogwe',\n",
    "'lga_Kigoma Urban',\n",
    "'lga_Iramba',\n",
    "'lga_Mtwara Urban',\n",
    "'lga_Handeni',\n",
    "'lga_Longido',\n",
    "'lga_Biharamulo',\n",
    "'lga_Bukoba Rural',\n",
    "'lga_Kilolo',\n",
    "'waterpoint_type_group_cattle trough',\n",
    "'extraction_type_class_wind-powered',\n",
    "'lga_Ngorongoro',\n",
    "'lga_Urambo',\n",
    "'lga_Arusha Urban',\n",
    "'lga_Kinondoni',\n",
    "'lga_Tanga',\n",
    "'lga_Shinyanga Urban',\n",
    "'lga_Ilemela',\n",
    "'lga_Chato',\n",
    "'lga_Bukoba Urban',\n",
    "'lga_Songea Urban',\n",
    "'lga_Morogoro Urban',\n",
    "'waterpoint_type_group_dam',\n",
    "'water_quality_fluoride abandoned',\n",
    "'lga_Lindi Urban',\n",
    "'lga_Nyamagana'],axis=1)\n"
   ]
  },
  {
   "cell_type": "code",
   "execution_count": 207,
   "metadata": {
    "scrolled": true
   },
   "outputs": [
    {
     "data": {
      "text/plain": [
       "(59400, 196)"
      ]
     },
     "execution_count": 207,
     "metadata": {},
     "output_type": "execute_result"
    }
   ],
   "source": [
    "train.shape"
   ]
  },
  {
   "cell_type": "code",
   "execution_count": 208,
   "metadata": {
    "scrolled": true
   },
   "outputs": [
    {
     "data": {
      "text/html": [
       "<div>\n",
       "<style scoped>\n",
       "    .dataframe tbody tr th:only-of-type {\n",
       "        vertical-align: middle;\n",
       "    }\n",
       "\n",
       "    .dataframe tbody tr th {\n",
       "        vertical-align: top;\n",
       "    }\n",
       "\n",
       "    .dataframe thead th {\n",
       "        text-align: right;\n",
       "    }\n",
       "</style>\n",
       "<table border=\"1\" class=\"dataframe\">\n",
       "  <thead>\n",
       "    <tr style=\"text-align: right;\">\n",
       "      <th></th>\n",
       "      <th>amount_tsh</th>\n",
       "      <th>days_since_recorded</th>\n",
       "      <th>gps_height</th>\n",
       "      <th>longitude</th>\n",
       "      <th>latitude</th>\n",
       "      <th>region_code</th>\n",
       "      <th>district_code</th>\n",
       "      <th>population</th>\n",
       "      <th>status_group_vals</th>\n",
       "      <th>funder_Kkkt</th>\n",
       "      <th>...</th>\n",
       "      <th>source_type_river/lake</th>\n",
       "      <th>source_type_shallow well</th>\n",
       "      <th>source_type_spring</th>\n",
       "      <th>source_class_groundwater</th>\n",
       "      <th>source_class_surface</th>\n",
       "      <th>source_class_unknown</th>\n",
       "      <th>waterpoint_type_group_communal standpipe</th>\n",
       "      <th>waterpoint_type_group_hand pump</th>\n",
       "      <th>waterpoint_type_group_improved spring</th>\n",
       "      <th>waterpoint_type_group_other</th>\n",
       "    </tr>\n",
       "  </thead>\n",
       "  <tbody>\n",
       "    <tr>\n",
       "      <th>0</th>\n",
       "      <td>1062.351942</td>\n",
       "      <td>394</td>\n",
       "      <td>1018.860839</td>\n",
       "      <td>0.000000</td>\n",
       "      <td>-2.000000e-08</td>\n",
       "      <td>19</td>\n",
       "      <td>2</td>\n",
       "      <td>281.087167</td>\n",
       "      <td>0</td>\n",
       "      <td>0</td>\n",
       "      <td>...</td>\n",
       "      <td>0</td>\n",
       "      <td>1</td>\n",
       "      <td>0</td>\n",
       "      <td>1</td>\n",
       "      <td>0</td>\n",
       "      <td>0</td>\n",
       "      <td>0</td>\n",
       "      <td>1</td>\n",
       "      <td>0</td>\n",
       "      <td>0</td>\n",
       "    </tr>\n",
       "    <tr>\n",
       "      <th>1</th>\n",
       "      <td>6.000000</td>\n",
       "      <td>122</td>\n",
       "      <td>788.000000</td>\n",
       "      <td>37.519105</td>\n",
       "      <td>-3.414055e+00</td>\n",
       "      <td>3</td>\n",
       "      <td>4</td>\n",
       "      <td>30.000000</td>\n",
       "      <td>2</td>\n",
       "      <td>0</td>\n",
       "      <td>...</td>\n",
       "      <td>0</td>\n",
       "      <td>0</td>\n",
       "      <td>0</td>\n",
       "      <td>1</td>\n",
       "      <td>0</td>\n",
       "      <td>0</td>\n",
       "      <td>1</td>\n",
       "      <td>0</td>\n",
       "      <td>0</td>\n",
       "      <td>0</td>\n",
       "    </tr>\n",
       "    <tr>\n",
       "      <th>2</th>\n",
       "      <td>200.000000</td>\n",
       "      <td>291</td>\n",
       "      <td>1220.000000</td>\n",
       "      <td>30.153729</td>\n",
       "      <td>-4.542733e+00</td>\n",
       "      <td>16</td>\n",
       "      <td>2</td>\n",
       "      <td>200.000000</td>\n",
       "      <td>0</td>\n",
       "      <td>0</td>\n",
       "      <td>...</td>\n",
       "      <td>1</td>\n",
       "      <td>0</td>\n",
       "      <td>0</td>\n",
       "      <td>0</td>\n",
       "      <td>1</td>\n",
       "      <td>0</td>\n",
       "      <td>1</td>\n",
       "      <td>0</td>\n",
       "      <td>0</td>\n",
       "      <td>0</td>\n",
       "    </tr>\n",
       "    <tr>\n",
       "      <th>3</th>\n",
       "      <td>1062.351942</td>\n",
       "      <td>292</td>\n",
       "      <td>1018.860839</td>\n",
       "      <td>33.277344</td>\n",
       "      <td>-4.201366e+00</td>\n",
       "      <td>14</td>\n",
       "      <td>1</td>\n",
       "      <td>281.087167</td>\n",
       "      <td>0</td>\n",
       "      <td>0</td>\n",
       "      <td>...</td>\n",
       "      <td>0</td>\n",
       "      <td>1</td>\n",
       "      <td>0</td>\n",
       "      <td>1</td>\n",
       "      <td>0</td>\n",
       "      <td>0</td>\n",
       "      <td>0</td>\n",
       "      <td>0</td>\n",
       "      <td>0</td>\n",
       "      <td>1</td>\n",
       "    </tr>\n",
       "    <tr>\n",
       "      <th>4</th>\n",
       "      <td>1062.351942</td>\n",
       "      <td>874</td>\n",
       "      <td>1018.860839</td>\n",
       "      <td>33.830801</td>\n",
       "      <td>-9.156843e+00</td>\n",
       "      <td>12</td>\n",
       "      <td>4</td>\n",
       "      <td>281.087167</td>\n",
       "      <td>0</td>\n",
       "      <td>0</td>\n",
       "      <td>...</td>\n",
       "      <td>1</td>\n",
       "      <td>0</td>\n",
       "      <td>0</td>\n",
       "      <td>0</td>\n",
       "      <td>1</td>\n",
       "      <td>0</td>\n",
       "      <td>1</td>\n",
       "      <td>0</td>\n",
       "      <td>0</td>\n",
       "      <td>0</td>\n",
       "    </tr>\n",
       "  </tbody>\n",
       "</table>\n",
       "<p>5 rows × 196 columns</p>\n",
       "</div>"
      ],
      "text/plain": [
       "    amount_tsh  days_since_recorded   gps_height  longitude      latitude  \\\n",
       "0  1062.351942                  394  1018.860839   0.000000 -2.000000e-08   \n",
       "1     6.000000                  122   788.000000  37.519105 -3.414055e+00   \n",
       "2   200.000000                  291  1220.000000  30.153729 -4.542733e+00   \n",
       "3  1062.351942                  292  1018.860839  33.277344 -4.201366e+00   \n",
       "4  1062.351942                  874  1018.860839  33.830801 -9.156843e+00   \n",
       "\n",
       "   region_code  district_code  population  status_group_vals  funder_Kkkt  \\\n",
       "0           19              2  281.087167                  0            0   \n",
       "1            3              4   30.000000                  2            0   \n",
       "2           16              2  200.000000                  0            0   \n",
       "3           14              1  281.087167                  0            0   \n",
       "4           12              4  281.087167                  0            0   \n",
       "\n",
       "              ...               source_type_river/lake  \\\n",
       "0             ...                                    0   \n",
       "1             ...                                    0   \n",
       "2             ...                                    1   \n",
       "3             ...                                    0   \n",
       "4             ...                                    1   \n",
       "\n",
       "   source_type_shallow well  source_type_spring  source_class_groundwater  \\\n",
       "0                         1                   0                         1   \n",
       "1                         0                   0                         1   \n",
       "2                         0                   0                         0   \n",
       "3                         1                   0                         1   \n",
       "4                         0                   0                         0   \n",
       "\n",
       "   source_class_surface  source_class_unknown  \\\n",
       "0                     0                     0   \n",
       "1                     0                     0   \n",
       "2                     1                     0   \n",
       "3                     0                     0   \n",
       "4                     1                     0   \n",
       "\n",
       "   waterpoint_type_group_communal standpipe  waterpoint_type_group_hand pump  \\\n",
       "0                                         0                                1   \n",
       "1                                         1                                0   \n",
       "2                                         1                                0   \n",
       "3                                         0                                0   \n",
       "4                                         1                                0   \n",
       "\n",
       "   waterpoint_type_group_improved spring  waterpoint_type_group_other  \n",
       "0                                      0                            0  \n",
       "1                                      0                            0  \n",
       "2                                      0                            0  \n",
       "3                                      0                            1  \n",
       "4                                      0                            0  \n",
       "\n",
       "[5 rows x 196 columns]"
      ]
     },
     "execution_count": 208,
     "metadata": {},
     "output_type": "execute_result"
    }
   ],
   "source": [
    "train.head()"
   ]
  },
  {
   "cell_type": "code",
   "execution_count": 209,
   "metadata": {},
   "outputs": [
    {
     "data": {
      "text/plain": [
       "(14850, 195)"
      ]
     },
     "execution_count": 209,
     "metadata": {},
     "output_type": "execute_result"
    }
   ],
   "source": [
    "test.shape"
   ]
  },
  {
   "cell_type": "markdown",
   "metadata": {},
   "source": [
    "# 3 Model building"
   ]
  },
  {
   "cell_type": "code",
   "execution_count": 210,
   "metadata": {},
   "outputs": [],
   "source": [
    "target = train.status_group_vals\n",
    "features = train.drop('status_group_vals', axis=1)"
   ]
  },
  {
   "cell_type": "code",
   "execution_count": 211,
   "metadata": {},
   "outputs": [
    {
     "name": "stdout",
     "output_type": "stream",
     "text": [
      "42502    0\n",
      "28577    2\n",
      "40100    0\n",
      "31775    1\n",
      "39440    1\n",
      "17957    2\n",
      "35631    0\n",
      "37688    2\n",
      "36606    2\n",
      "46689    2\n",
      "44437    2\n",
      "314      2\n",
      "22547    2\n",
      "217      0\n",
      "22055    0\n",
      "1636     0\n",
      "38684    2\n",
      "33747    0\n",
      "59173    2\n",
      "47666    0\n",
      "57875    0\n",
      "51483    2\n",
      "27785    0\n",
      "55429    2\n",
      "29938    2\n",
      "49822    1\n",
      "2679     2\n",
      "13843    0\n",
      "36378    2\n",
      "3810     1\n",
      "        ..\n",
      "30205    1\n",
      "52937    0\n",
      "57493    2\n",
      "51733    2\n",
      "37047    0\n",
      "25600    2\n",
      "9603     0\n",
      "1588     2\n",
      "8170     2\n",
      "32038    0\n",
      "7212     2\n",
      "41906    2\n",
      "56996    2\n",
      "32616    0\n",
      "46393    0\n",
      "29623    2\n",
      "43831    2\n",
      "20062    2\n",
      "14445    0\n",
      "8039     2\n",
      "42042    2\n",
      "29065    2\n",
      "23346    2\n",
      "49608    2\n",
      "11863    2\n",
      "55169    2\n",
      "49861    0\n",
      "27063    2\n",
      "8366     0\n",
      "17530    2\n",
      "Name: status_group_vals, Length: 47520, dtype: int64 16063    0\n",
      "35157    2\n",
      "11952    2\n",
      "534      2\n",
      "33933    0\n",
      "7697     2\n",
      "37485    2\n",
      "41015    1\n",
      "39499    2\n",
      "35153    2\n",
      "2794     2\n",
      "9509     0\n",
      "38064    0\n",
      "42999    2\n",
      "28630    1\n",
      "34681    2\n",
      "9271     0\n",
      "3047     2\n",
      "23481    0\n",
      "45679    2\n",
      "35858    2\n",
      "59056    2\n",
      "31576    2\n",
      "4515     0\n",
      "37916    2\n",
      "9293     2\n",
      "41662    0\n",
      "16629    0\n",
      "972      2\n",
      "47412    0\n",
      "        ..\n",
      "54981    0\n",
      "33622    0\n",
      "6815     2\n",
      "24178    2\n",
      "288      2\n",
      "1460     2\n",
      "22587    0\n",
      "27132    2\n",
      "53984    2\n",
      "50869    2\n",
      "34406    2\n",
      "16234    0\n",
      "41990    2\n",
      "7700     0\n",
      "57832    0\n",
      "1077     2\n",
      "44255    2\n",
      "41058    2\n",
      "36275    0\n",
      "10949    2\n",
      "49030    0\n",
      "51006    2\n",
      "33127    0\n",
      "51878    0\n",
      "55268    0\n",
      "44890    2\n",
      "37879    2\n",
      "25395    2\n",
      "50143    2\n",
      "44850    2\n",
      "Name: status_group_vals, Length: 11880, dtype: int64\n"
     ]
    }
   ],
   "source": [
    "# split the data for test and train\n",
    "X_train, X_val, y_train, y_val = train_test_split(features, target, train_size=0.8,random_state=4)\n",
    "print(y_train,y_val)"
   ]
  },
  {
   "cell_type": "code",
   "execution_count": 212,
   "metadata": {},
   "outputs": [
    {
     "data": {
      "text/plain": [
       "(47520, 195)"
      ]
     },
     "execution_count": 212,
     "metadata": {},
     "output_type": "execute_result"
    }
   ],
   "source": [
    "X_train.shape"
   ]
  },
  {
   "cell_type": "markdown",
   "metadata": {
    "collapsed": true
   },
   "source": [
    "## Linear SVC model"
   ]
  },
  {
   "cell_type": "markdown",
   "metadata": {},
   "source": [
    "### 70.63 accuracy"
   ]
  },
  {
   "cell_type": "code",
   "execution_count": 90,
   "metadata": {
    "scrolled": true
   },
   "outputs": [],
   "source": [
    "#Support vector machine is a representation of the training data as points\n",
    "#in space ,separated into categories by a clear gap that is as wide as possible.\n",
    "\n",
    "def Linear_svc_model(X_train, X_val, y_train, y_val, test):\n",
    "    if __name__ == '__main__':\n",
    "        \n",
    "        #scl = StandardScaler()\n",
    "        clf = LinearSVC()\n",
    "        \n",
    "        parameters = {'C':[0.001,0.01,0.1,1.0,10.0,100.0],'class_weight':[None, 'balanced']}\n",
    "\n",
    "        estimator = GridSearchCV(clf, parameters,n_jobs=-1)\n",
    "\n",
    "        estimator.fit(X_train, y_train)\n",
    "\n",
    "        best_params = estimator.best_params_\n",
    "                                 \n",
    "        validation_accuracy = estimator.score(X_val, y_val)\n",
    "        print('Validation accuracy: ', validation_accuracy*100)\n",
    "        print(best_params)"
   ]
  },
  {
   "cell_type": "code",
   "execution_count": 91,
   "metadata": {},
   "outputs": [
    {
     "name": "stdout",
     "output_type": "stream",
     "text": [
      "Validation accuracy:  70.63973063973063\n",
      "{'C': 0.01, 'class_weight': None}\n"
     ]
    }
   ],
   "source": [
    "Linear_svc_model(X_train, X_val, y_train, y_val, test)"
   ]
  },
  {
   "cell_type": "markdown",
   "metadata": {},
   "source": [
    "## Decision Tree Classifier"
   ]
  },
  {
   "cell_type": "markdown",
   "metadata": {},
   "source": [
    "### 74.30 accuracy"
   ]
  },
  {
   "cell_type": "code",
   "execution_count": 213,
   "metadata": {},
   "outputs": [
    {
     "name": "stdout",
     "output_type": "stream",
     "text": [
      "[2 2 2 ... 2 2 2]\n"
     ]
    }
   ],
   "source": [
    "## Decision Tree \n",
    "from sklearn import tree\n",
    "clf = tree.DecisionTreeClassifier(min_samples_split=60,max_depth = 10,criterion='entropy')\n",
    "clf.fit(X_train, y_train)\n",
    "prediction = clf.predict(X_val)\n",
    "print (prediction)"
   ]
  },
  {
   "cell_type": "code",
   "execution_count": 214,
   "metadata": {},
   "outputs": [
    {
     "name": "stdout",
     "output_type": "stream",
     "text": [
      "74.30976430976432\n"
     ]
    }
   ],
   "source": [
    "## Computing accuracy\n",
    "from sklearn.metrics import accuracy_score\n",
    "print (accuracy_score(prediction,  y_val)*100)"
   ]
  },
  {
   "cell_type": "markdown",
   "metadata": {},
   "source": [
    "# Gradient Boosting Classifier"
   ]
  },
  {
   "cell_type": "markdown",
   "metadata": {},
   "source": [
    "### 79.43 accuracy"
   ]
  },
  {
   "cell_type": "code",
   "execution_count": 215,
   "metadata": {},
   "outputs": [],
   "source": [
    "#The Gradient Boosting Classifier is an additive ensemble of a base model whose error is corrected \n",
    "#in successive iterations (or stages) by the addition of Regression Trees\n",
    "#which correct the residuals (the error of the previous stage).\n",
    "\n",
    "\n",
    "def GradientBoostingClassifier_model(X_train, X_val, y_train, y_val, test):\n",
    "    if __name__ == '__main__':\n",
    "        \n",
    "        \n",
    "        gb = GradientBoostingClassifier()\n",
    "        \n",
    "        parameters = {'learning_rate': [0.7],\n",
    "                      'max_depth': [14],\n",
    "                      'min_samples_leaf': [16],\n",
    "                      'max_features': [1.0],\n",
    "                      'n_estimators': [200]}\n",
    "        \n",
    "        estimator = GridSearchCV(gb,n_jobs=-1,param_grid=parameters)\n",
    "      \n",
    "        estimator.fit(X_train, y_train)\n",
    "        pred_y2=estimator.predict(X_val)\n",
    "        best_params = estimator.best_params_\n",
    "                                 \n",
    "        validation_accuracy = estimator.score(X_val, y_val)\n",
    "        print('Validation accuracy: ', validation_accuracy*100)\n",
    "        print(best_params)\n",
    "        return pred_y2"
   ]
  },
  {
   "cell_type": "code",
   "execution_count": 216,
   "metadata": {
    "scrolled": true
   },
   "outputs": [
    {
     "name": "stdout",
     "output_type": "stream",
     "text": [
      "Validation accuracy:  79.43602693602693\n",
      "{'learning_rate': 0.7, 'max_depth': 14, 'max_features': 1.0, 'min_samples_leaf': 16, 'n_estimators': 200}\n"
     ]
    }
   ],
   "source": [
    "pred_y2=GradientBoostingClassifier_model(X_train, X_val, y_train, y_val, test)"
   ]
  },
  {
   "cell_type": "code",
   "execution_count": 217,
   "metadata": {},
   "outputs": [
    {
     "name": "stdout",
     "output_type": "stream",
     "text": [
      "[[3702  100  859]\n",
      " [ 137  297  401]\n",
      " [ 681  265 5438]]\n"
     ]
    }
   ],
   "source": [
    "from sklearn.metrics import classification_report,confusion_matrix\n",
    "cf2=confusion_matrix(y_val,pred_y2)\n",
    "print(cf2)"
   ]
  },
  {
   "cell_type": "code",
   "execution_count": 218,
   "metadata": {},
   "outputs": [
    {
     "name": "stdout",
     "output_type": "stream",
     "text": [
      "             precision    recall  f1-score   support\n",
      "\n",
      "          0       0.82      0.79      0.81      4661\n",
      "          1       0.45      0.36      0.40       835\n",
      "          2       0.81      0.85      0.83      6384\n",
      "\n",
      "avg / total       0.79      0.79      0.79     11880\n",
      "\n"
     ]
    }
   ],
   "source": [
    "\n",
    "report2=classification_report(y_val,pred_y2)\n",
    "print(report2)"
   ]
  },
  {
   "cell_type": "code",
   "execution_count": 236,
   "metadata": {},
   "outputs": [
    {
     "ename": "NameError",
     "evalue": "name 'gb' is not defined",
     "output_type": "error",
     "traceback": [
      "\u001b[1;31m---------------------------------------------------------------------------\u001b[0m",
      "\u001b[1;31mNameError\u001b[0m                                 Traceback (most recent call last)",
      "\u001b[1;32m<ipython-input-236-bd3ddac87ecd>\u001b[0m in \u001b[0;36m<module>\u001b[1;34m()\u001b[0m\n\u001b[0;32m      1\u001b[0m \u001b[1;32mfrom\u001b[0m \u001b[0msklearn\u001b[0m\u001b[1;33m.\u001b[0m\u001b[0mmodel_selection\u001b[0m \u001b[1;32mimport\u001b[0m \u001b[0mcross_val_score\u001b[0m\u001b[1;33m\u001b[0m\u001b[0m\n\u001b[0;32m      2\u001b[0m \u001b[1;33m\u001b[0m\u001b[0m\n\u001b[1;32m----> 3\u001b[1;33m \u001b[0mscores2\u001b[0m \u001b[1;33m=\u001b[0m \u001b[0mcross_val_score\u001b[0m\u001b[1;33m(\u001b[0m\u001b[0mgb\u001b[0m\u001b[1;33m,\u001b[0m \u001b[0mfeatures\u001b[0m\u001b[1;33m,\u001b[0m \u001b[0mtarget\u001b[0m\u001b[1;33m,\u001b[0m \u001b[0mcv\u001b[0m\u001b[1;33m=\u001b[0m\u001b[1;36m5\u001b[0m\u001b[1;33m)\u001b[0m\u001b[1;33m\u001b[0m\u001b[0m\n\u001b[0m\u001b[0;32m      4\u001b[0m \u001b[0mprint\u001b[0m\u001b[1;33m(\u001b[0m\u001b[0mscores2\u001b[0m\u001b[1;33m)\u001b[0m\u001b[1;33m\u001b[0m\u001b[0m\n",
      "\u001b[1;31mNameError\u001b[0m: name 'gb' is not defined"
     ]
    }
   ],
   "source": [
    "from sklearn.model_selection import cross_val_score\n",
    "\n",
    "scores2 = cross_val_score(gb, features, target, cv=5)\n",
    "print(scores2)"
   ]
  },
  {
   "cell_type": "markdown",
   "metadata": {},
   "source": [
    "# XG Booster"
   ]
  },
  {
   "cell_type": "markdown",
   "metadata": {},
   "source": [
    "### 80.1 accuracy"
   ]
  },
  {
   "cell_type": "code",
   "execution_count": 220,
   "metadata": {},
   "outputs": [
    {
     "name": "stdout",
     "output_type": "stream",
     "text": [
      "Fitting 3 folds for each of 1 candidates, totalling 3 fits\n"
     ]
    },
    {
     "name": "stderr",
     "output_type": "stream",
     "text": [
      "[Parallel(n_jobs=8)]: Done   3 out of   3 | elapsed: 20.6min remaining:    0.0s\n",
      "[Parallel(n_jobs=8)]: Done   3 out of   3 | elapsed: 20.6min finished\n"
     ]
    },
    {
     "name": "stdout",
     "output_type": "stream",
     "text": [
      "Best score: 0.801\n",
      "Best parameters set:\n",
      "\tlearning_rate: 0.1\n",
      "\tmax_depth: 70\n",
      "\tn_estimators: 100\n"
     ]
    },
    {
     "name": "stderr",
     "output_type": "stream",
     "text": [
      "C:\\Users\\Admin\\Anaconda3\\lib\\site-packages\\sklearn\\preprocessing\\label.py:151: DeprecationWarning: The truth value of an empty array is ambiguous. Returning False, but in future this will result in an error. Use `array.size > 0` to check that an array is not empty.\n",
      "  if diff:\n"
     ]
    }
   ],
   "source": [
    "#XGBoost is an optimized distributed gradient boosting library designed to be highly efficient, flexible and portable.\n",
    "#XGBoost is a lot faster and its performance is superior to sklearn's GradientBoosting.\n",
    "#Xgboost does regularization of the tree as well to avoid overfitting.\n",
    "\n",
    "import xgboost as xgb\n",
    "from xgboost.sklearn import XGBClassifier\n",
    "from sklearn import decomposition, grid_search\n",
    "\n",
    "# Grid Search - Used to find best combination of parameters\n",
    "XGB_model = xgb.XGBClassifier(objective='multi:softprob',\n",
    "                              subsample=0.5, colsample_bytree=0.5, \n",
    "                              seed=0)\n",
    "# \n",
    "param_grid = {'max_depth': [70], 'learning_rate': [0.1], \n",
    "              'n_estimators': [100]}\n",
    "#param_grid = {'max_depth': [3, 4, 5], 'learning_rate': [0.1, 0.3], 'n_estimators': [25, 50]} ##Note running this step can take a significant amount of time, might take hours as well.\n",
    "model = grid_search.GridSearchCV(estimator=XGB_model,param_grid=param_grid,\n",
    "                                 scoring='accuracy', verbose=5, n_jobs=8, \n",
    "                                 iid=True, refit=True, cv=3)\n",
    "\n",
    "#model.fit(X, y)\n",
    "model.fit(X_train, y_train)\n",
    "y_pred1=model.predict(X_val)\n",
    "print(\"Best score: %0.3f\" % model.best_score_)\n",
    "print(\"Best parameters set:\")\n",
    "best_parameters = model.best_estimator_.get_params()\n",
    "for param_name in sorted(param_grid.keys()):\n",
    "    print(\"\\t%s: %r\" % (param_name, best_parameters[param_name]))"
   ]
  },
  {
   "cell_type": "code",
   "execution_count": 221,
   "metadata": {},
   "outputs": [
    {
     "name": "stdout",
     "output_type": "stream",
     "text": [
      "[[3713   73  875]\n",
      " [ 118  281  436]\n",
      " [ 575  188 5621]]\n"
     ]
    }
   ],
   "source": [
    "cf=confusion_matrix(y_val,y_pred1)\n",
    "print(cf)"
   ]
  },
  {
   "cell_type": "code",
   "execution_count": 222,
   "metadata": {},
   "outputs": [
    {
     "name": "stdout",
     "output_type": "stream",
     "text": [
      "             precision    recall  f1-score   support\n",
      "\n",
      "          0       0.84      0.80      0.82      4661\n",
      "          1       0.52      0.34      0.41       835\n",
      "          2       0.81      0.88      0.84      6384\n",
      "\n",
      "avg / total       0.80      0.81      0.80     11880\n",
      "\n"
     ]
    }
   ],
   "source": [
    "from sklearn.metrics import classification_report,confusion_matrix\n",
    "report=classification_report(y_val,y_pred1)\n",
    "print(report)"
   ]
  },
  {
   "cell_type": "code",
   "execution_count": 235,
   "metadata": {},
   "outputs": [
    {
     "name": "stderr",
     "output_type": "stream",
     "text": [
      "C:\\Users\\Admin\\Anaconda3\\lib\\site-packages\\sklearn\\preprocessing\\label.py:151: DeprecationWarning: The truth value of an empty array is ambiguous. Returning False, but in future this will result in an error. Use `array.size > 0` to check that an array is not empty.\n",
      "  if diff:\n",
      "C:\\Users\\Admin\\Anaconda3\\lib\\site-packages\\sklearn\\preprocessing\\label.py:151: DeprecationWarning: The truth value of an empty array is ambiguous. Returning False, but in future this will result in an error. Use `array.size > 0` to check that an array is not empty.\n",
      "  if diff:\n",
      "C:\\Users\\Admin\\Anaconda3\\lib\\site-packages\\sklearn\\preprocessing\\label.py:151: DeprecationWarning: The truth value of an empty array is ambiguous. Returning False, but in future this will result in an error. Use `array.size > 0` to check that an array is not empty.\n",
      "  if diff:\n",
      "C:\\Users\\Admin\\Anaconda3\\lib\\site-packages\\sklearn\\preprocessing\\label.py:151: DeprecationWarning: The truth value of an empty array is ambiguous. Returning False, but in future this will result in an error. Use `array.size > 0` to check that an array is not empty.\n",
      "  if diff:\n"
     ]
    },
    {
     "name": "stdout",
     "output_type": "stream",
     "text": [
      "[0.74909519 0.74909519 0.74065657 0.73897306 0.74751642]\n"
     ]
    },
    {
     "name": "stderr",
     "output_type": "stream",
     "text": [
      "C:\\Users\\Admin\\Anaconda3\\lib\\site-packages\\sklearn\\preprocessing\\label.py:151: DeprecationWarning: The truth value of an empty array is ambiguous. Returning False, but in future this will result in an error. Use `array.size > 0` to check that an array is not empty.\n",
      "  if diff:\n"
     ]
    }
   ],
   "source": [
    "from sklearn.model_selection import cross_val_score\n",
    "\n",
    "scores1 = cross_val_score(XGB_model, features, target, cv=5)\n",
    "print(scores1)"
   ]
  },
  {
   "cell_type": "markdown",
   "metadata": {},
   "source": [
    "# RandomforestClassifier"
   ]
  },
  {
   "cell_type": "markdown",
   "metadata": {},
   "source": [
    "### 81.35 accuracy"
   ]
  },
  {
   "cell_type": "code",
   "execution_count": 246,
   "metadata": {},
   "outputs": [],
   "source": [
    "def GradientBoostingClassifier_random_forest_model1 (X_train, X_val, y_train, y_val, test):\n",
    "    if __name__ == '__main__':\n",
    "        \n",
    "        rf = RandomForestClassifier(criterion='entropy',\n",
    "                                n_estimators=1000,\n",
    "                                max_features='auto',\n",
    "                                oob_score=True,\n",
    "                                min_samples_split=40,\n",
    "                                random_state=60,\n",
    "                                n_jobs=8)\n",
    "\n",
    "        \n",
    "        param_grid = {\"min_samples_split\" : [8],\n",
    "             \"n_estimators\" : [1000]}\n",
    "\n",
    "        estimator = GridSearchCV(estimator=rf,\n",
    "                  param_grid=param_grid,\n",
    "                  scoring='accuracy',\n",
    "                  cv=5,\n",
    "                  n_jobs=9)\n",
    "\n",
    "        \n",
    "        estimator.fit(X_train, y_train)\n",
    "        y_pred=estimator.predict(X_val)\n",
    "        best_params = estimator.best_params_\n",
    "                                 \n",
    "        validation_accuracy = estimator.score(X_val, y_val)\n",
    "        print('Validation accuracy: ', validation_accuracy*100)\n",
    "        print(best_params)\n",
    "        return y_pred,rf"
   ]
  },
  {
   "cell_type": "code",
   "execution_count": 247,
   "metadata": {},
   "outputs": [
    {
     "name": "stdout",
     "output_type": "stream",
     "text": [
      "Validation accuracy:  81.18686868686868\n",
      "{'min_samples_split': 8, 'n_estimators': 1000}\n"
     ]
    },
    {
     "data": {
      "text/plain": [
       "(array([2, 2, 2, ..., 2, 2, 2], dtype=int64),\n",
       " RandomForestClassifier(bootstrap=True, class_weight=None, criterion='entropy',\n",
       "             max_depth=None, max_features='auto', max_leaf_nodes=None,\n",
       "             min_impurity_decrease=0.0, min_impurity_split=None,\n",
       "             min_samples_leaf=1, min_samples_split=40,\n",
       "             min_weight_fraction_leaf=0.0, n_estimators=1000, n_jobs=8,\n",
       "             oob_score=True, random_state=60, verbose=0, warm_start=False))"
      ]
     },
     "execution_count": 247,
     "metadata": {},
     "output_type": "execute_result"
    }
   ],
   "source": [
    "GradientBoostingClassifier_random_forest_model1 (X_train, X_val, y_train, y_val, test)"
   ]
  },
  {
   "cell_type": "code",
   "execution_count": 248,
   "metadata": {
    "scrolled": true
   },
   "outputs": [
    {
     "name": "stdout",
     "output_type": "stream",
     "text": [
      "       expected  predicted\n",
      "16063         0          0\n",
      "35157         2          2\n",
      "11952         2          1\n",
      "534           2          2\n",
      "33933         0          2\n",
      "7697          2          2\n",
      "37485         2          2\n",
      "41015         1          0\n",
      "39499         2          2\n",
      "35153         2          2\n",
      "2794          2          2\n",
      "9509          0          2\n",
      "38064         0          2\n",
      "42999         2          0\n",
      "28630         1          2\n",
      "34681         2          2\n",
      "9271          0          2\n",
      "3047          2          2\n",
      "23481         0          0\n",
      "45679         2          2\n",
      "35858         2          2\n",
      "59056         2          0\n",
      "31576         2          0\n",
      "4515          0          2\n",
      "37916         2          0\n",
      "9293          2          0\n",
      "41662         0          2\n",
      "16629         0          2\n",
      "972           2          2\n",
      "47412         0          0\n",
      "...         ...        ...\n",
      "54981         0          2\n",
      "33622         0          2\n",
      "6815          2          2\n",
      "24178         2          0\n",
      "288           2          0\n",
      "1460          2          2\n",
      "22587         0          0\n",
      "27132         2          2\n",
      "53984         2          0\n",
      "50869         2          2\n",
      "34406         2          2\n",
      "16234         0          0\n",
      "41990         2          0\n",
      "7700          0          0\n",
      "57832         0          2\n",
      "1077          2          0\n",
      "44255         2          2\n",
      "41058         2          0\n",
      "36275         0          2\n",
      "10949         2          0\n",
      "49030         0          2\n",
      "51006         2          2\n",
      "33127         0          0\n",
      "51878         0          2\n",
      "55268         0          0\n",
      "44890         2          2\n",
      "37879         2          2\n",
      "25395         2          2\n",
      "50143         2          0\n",
      "44850         2          2\n",
      "\n",
      "[11880 rows x 2 columns]\n"
     ]
    }
   ],
   "source": [
    "dout= {'expected' : y_val, 'predicted' : y_pred}\n",
    "out=pd.DataFrame(dout)\n",
    "print(out)"
   ]
  },
  {
   "cell_type": "code",
   "execution_count": 251,
   "metadata": {},
   "outputs": [
    {
     "name": "stdout",
     "output_type": "stream",
     "text": [
      "[0.79968016 0.80481441 0.80294613 0.80555556 0.80611214]\n"
     ]
    }
   ],
   "source": [
    "from sklearn.model_selection import cross_val_score\n",
    "\n",
    "scores = cross_val_score(rf, features, target, cv=5)\n",
    "print(scores)"
   ]
  },
  {
   "cell_type": "code",
   "execution_count": 255,
   "metadata": {},
   "outputs": [
    {
     "data": {
      "image/png": "[encoded data removed]",
      "text/plain": [
       "<Figure size 432x288 with 1 Axes>"
      ]
     },
     "metadata": {},
     "output_type": "display_data"
    }
   ],
   "source": [
    "import matplotlib.pyplot as plt\n",
    "import numpy as np\n",
    "\n",
    "from sklearn.datasets import load_digits\n",
    "from sklearn.svm import SVC\n",
    "from sklearn.model_selection import validation_curve\n",
    "\n",
    "X, y = features, target\n",
    "\n",
    "param_range = np.arange(1, 250, 2)\n",
    "train_scores, test_scores = validation_curve(RandomForestClassifier(), \n",
    "                                             X, \n",
    "                                             y, \n",
    "                                             param_name=\"n_estimators\", \n",
    "                                             param_range=param_range,\n",
    "                                             cv=3, \n",
    "                                             scoring=\"accuracy\", \n",
    "                                             n_jobs=-1)\n",
    "train_scores_mean = np.mean(train_scores, axis=1)\n",
    "train_scores_std = np.std(train_scores, axis=1)\n",
    "test_scores_mean = np.mean(test_scores, axis=1)\n",
    "test_scores_std = np.std(test_scores, axis=1)\n",
    "\n",
    "plt.title(\"Validation Curve with SVM\")\n",
    "plt.xlabel(\"$\\gamma$\")\n",
    "plt.ylabel(\"Score\")\n",
    "plt.ylim(0.0, 1.1)\n",
    "lw = 2\n",
    "plt.semilogx(param_range, train_scores_mean, label=\"Training score\",\n",
    "             color=\"darkorange\", lw=lw)\n",
    "plt.fill_between(param_range, train_scores_mean - train_scores_std,\n",
    "                 train_scores_mean + train_scores_std, alpha=0.2,\n",
    "                 color=\"darkorange\", lw=lw)\n",
    "plt.semilogx(param_range, test_scores_mean, label=\"Cross-validation score\",\n",
    "             color=\"navy\", lw=lw)\n",
    "plt.fill_between(param_range, test_scores_mean - test_scores_std,\n",
    "                 test_scores_mean + test_scores_std, alpha=0.2,\n",
    "                 color=\"navy\", lw=lw)\n",
    "plt.legend(loc=\"best\")\n",
    "plt.show()"
   ]
  },
  {
   "cell_type": "code",
   "execution_count": null,
   "metadata": {},
   "outputs": [],
   "source": [
    "test_id = pd.DataFrame\n",
    "test_id=test_copy['id']"
   ]
  },
  {
   "cell_type": "code",
   "execution_count": 95,
   "metadata": {},
   "outputs": [],
   "source": [
    "\n",
    "def model_for_submission(features, target, test):\n",
    "    if __name__ == '__main__':\n",
    "\n",
    "        rf = RandomForestClassifier(criterion='entropy',\n",
    "                                n_estimators=200,\n",
    "                                max_features='auto',\n",
    "                                min_samples_split='40',\n",
    "                                oob_score=True,\n",
    "                                bootstrap=True,\n",
    "                                random_state=60,\n",
    "                                n_jobs=-1)\n",
    "\n",
    "        \n",
    "        param_grid = {\"min_samples_split\" : [8],\n",
    "             \"n_estimators\" : [400]}\n",
    "\n",
    "        estimator = GridSearchCV(estimator=rf,\n",
    "                  param_grid=param_grid,\n",
    "                  scoring='accuracy',\n",
    "                  cv=5,\n",
    "                  n_jobs=-1)\n",
    "\n",
    "        estimator.fit(features, target)        \n",
    "\n",
    "        predictions = estimator.predict(test)\n",
    "\n",
    "        data = {'ID': test_id, 'status_group': predictions}\n",
    "\n",
    "        submit = pd.DataFrame(data=data)\n",
    "\n",
    "        vals_to_replace = {2:'functional', 1:'functional needs repair',\n",
    "                           0:'non functional'}\n",
    "\n",
    "        submit.status_group = submit.status_group.replace(vals_to_replace)        \n",
    "\n",
    "        submit.to_csv('Submission_file8.35.csv', index=False)\n"
   ]
  },
  {
   "cell_type": "code",
   "execution_count": 96,
   "metadata": {},
   "outputs": [],
   "source": [
    "model_for_submission(features, target, test)"
   ]
  },
  {
   "cell_type": "markdown",
   "metadata": {},
   "source": [
    "#### REFERENCE :\n",
    "##### https://github.com/pancr9/Pump-It-Up/blob/master/Pump%20It%20Up%20-%20Data%20Cleaning.ipynb\n",
    "##### https://www.kaggle.com/arthurtok/feature-ranking-rfe-random-forest-linear-models"
   ]
  }
 ],
 "metadata": {
  "kernelspec": {
   "display_name": "Python 3",
   "language": "python",
   "name": "python3"
  },
  "language_info": {
   "codemirror_mode": {
    "name": "ipython",
    "version": 3
   },
   "file_extension": ".py",
   "mimetype": "text/x-python",
   "name": "python",
   "nbconvert_exporter": "python",
   "pygments_lexer": "ipython3",
   "version": "3.6.5"
  }
 },
 "nbformat": 4,
 "nbformat_minor": 2
}
